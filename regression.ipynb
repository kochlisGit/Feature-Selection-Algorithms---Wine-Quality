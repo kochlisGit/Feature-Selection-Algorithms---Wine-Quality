{
 "cells": [
  {
   "cell_type": "markdown",
   "source": [
    "# Importing-Preprocessing Dataset"
   ],
   "metadata": {
    "collapsed": false
   }
  },
  {
   "cell_type": "code",
   "execution_count": 1,
   "metadata": {
    "collapsed": true
   },
   "outputs": [
    {
     "data": {
      "text/plain": "((5847, 12), (5847,), (650, 12), (650,))"
     },
     "execution_count": 1,
     "metadata": {},
     "output_type": "execute_result"
    }
   ],
   "source": [
    "import pandas as pd\n",
    "from sklearn.impute import KNNImputer\n",
    "from sklearn.model_selection import train_test_split\n",
    "\n",
    "samples = pd.read_csv('wines.csv')\n",
    "samples['type'] = samples['type'].replace({'white': 0, 'red': 1}).astype(int)\n",
    "samples[:] = KNNImputer(n_neighbors=25, weights='distance').fit_transform(samples)\n",
    "\n",
    "samples['other sulfur dioxide'] = samples['total sulfur dioxide'] - samples['free sulfur dioxide']\n",
    "\n",
    "targets = samples['quality']\n",
    "samples.drop(columns=['quality', 'total sulfur dioxide'], inplace=True)\n",
    "\n",
    "x_train, x_test, y_train, y_test = train_test_split(samples, targets, test_size=0.1, random_state=0)\n",
    "x_train.shape, y_train.shape, x_test.shape, y_test.shape"
   ]
  },
  {
   "cell_type": "markdown",
   "source": [
    "# Define Scaling Pipelines"
   ],
   "metadata": {
    "collapsed": false
   }
  },
  {
   "cell_type": "code",
   "execution_count": 2,
   "outputs": [],
   "source": [
    "from sklearn.preprocessing import MinMaxScaler, StandardScaler, RobustScaler, Normalizer\n",
    "\n",
    "scaling_methods = {\n",
    "    'None': None,\n",
    "    'MinMax': MinMaxScaler(),\n",
    "    'StandardScaler': StandardScaler(),\n",
    "    'RobustScaler': RobustScaler(),\n",
    "    'Normalizer': Normalizer()\n",
    "}"
   ],
   "metadata": {
    "collapsed": false,
    "pycharm": {
     "name": "#%%\n"
    }
   }
  },
  {
   "cell_type": "markdown",
   "source": [
    "# Training a Neural Network"
   ],
   "metadata": {
    "collapsed": false
   }
  },
  {
   "cell_type": "code",
   "execution_count": 3,
   "outputs": [
    {
     "name": "stdout",
     "output_type": "stream",
     "text": [
      "Model: \"sequential\"\n",
      "_________________________________________________________________\n",
      " Layer (type)                Output Shape              Param #   \n",
      "=================================================================\n",
      " dense (Dense)               (None, 256)               3072      \n",
      "                                                                 \n",
      " batch_normalization (BatchN  (None, 256)              1024      \n",
      " ormalization)                                                   \n",
      "                                                                 \n",
      " dense_1 (Dense)             (None, 128)               32896     \n",
      "                                                                 \n",
      " dense_2 (Dense)             (None, 1)                 129       \n",
      "                                                                 \n",
      "=================================================================\n",
      "Total params: 37,121\n",
      "Trainable params: 36,609\n",
      "Non-trainable params: 512\n",
      "_________________________________________________________________\n"
     ]
    }
   ],
   "source": [
    "import tensorflow as tf\n",
    "import tensorflow_addons as tfa\n",
    "\n",
    "tf.random.set_seed(0)\n",
    "\n",
    "\n",
    "def build_model(input_size):\n",
    "    model = tf.keras.Sequential()\n",
    "    model.add(tf.keras.layers.Input(input_size))\n",
    "    model.add(tf.keras.layers.Dense(units=256, activation='gelu', use_bias=False))\n",
    "    model.add(tf.keras.layers.BatchNormalization())\n",
    "    model.add(tf.keras.layers.Dense(units=128, activation='gelu'))\n",
    "    model.add(tf.keras.layers.Dense(1))\n",
    "\n",
    "    model.compile(optimizer=tfa.optimizers.Yogi(learning_rate=0.0005), loss='mae', metrics=['mae', 'mape'])\n",
    "\n",
    "    return model\n",
    "\n",
    "\n",
    "model = build_model(samples.shape[1:])\n",
    "model.summary()"
   ],
   "metadata": {
    "collapsed": false,
    "pycharm": {
     "name": "#%%\n"
    }
   }
  },
  {
   "cell_type": "code",
   "execution_count": 4,
   "outputs": [
    {
     "name": "stdout",
     "output_type": "stream",
     "text": [
      "21/21 [==============================] - 0s 848us/step\n",
      "MAE: 0.574664941567641\tMAPE: 0.10425148522548187\tScaling Method: None\n",
      "21/21 [==============================] - 0s 798us/step\n",
      "MAE: 0.5335880668346699\tMAPE: 0.09286738122164548\tScaling Method: MinMax\n",
      "21/21 [==============================] - 0s 798us/step\n",
      "MAE: 0.5073002829918495\tMAPE: 0.08849438374645108\tScaling Method: StandardScaler\n",
      "21/21 [==============================] - 0s 798us/step\n",
      "MAE: 0.5373223462471595\tMAPE: 0.09617116946877141\tScaling Method: RobustScaler\n",
      "21/21 [==============================] - 0s 848us/step\n",
      "MAE: 0.6214593729606042\tMAPE: 0.11294098635645576\tScaling Method: Normalizer\n"
     ]
    }
   ],
   "source": [
    "from sklearn.metrics import mean_absolute_error, mean_absolute_percentage_error\n",
    "\n",
    "epochs = 300\n",
    "batch_size = 32\n",
    "early_stopping = tf.keras.callbacks.EarlyStopping(\n",
    "    monitor='val_loss',\n",
    "    mode='min',\n",
    "    patience=30\n",
    ")\n",
    "\n",
    "for scaling_method, scaler in scaling_methods.items():\n",
    "    if scaler is not None:\n",
    "        scaled_x_train = scaler.fit_transform(x_train)\n",
    "        scaled_x_test = scaler.transform(x_test)\n",
    "    else:\n",
    "        scaled_x_train = x_train\n",
    "        scaled_x_test = x_test\n",
    "\n",
    "    model = build_model(x_train.shape[1:])\n",
    "    model.fit(\n",
    "        scaled_x_train,\n",
    "        y_train,\n",
    "        batch_size=batch_size,\n",
    "        epochs=epochs,\n",
    "        callbacks=[early_stopping],\n",
    "        validation_data=(scaled_x_test, y_test),\n",
    "        verbose=0\n",
    "    )\n",
    "    y_pred = model.predict(scaled_x_test)\n",
    "\n",
    "    mae = mean_absolute_error(y_test, y_pred)\n",
    "    mape = mean_absolute_percentage_error(y_test, y_pred)\n",
    "\n",
    "    print(f'MAE: {mae}\\tMAPE: {mape}\\tScaling Method: {scaling_method}')"
   ],
   "metadata": {
    "collapsed": false,
    "pycharm": {
     "name": "#%%\n"
    }
   }
  },
  {
   "cell_type": "markdown",
   "source": [
    "| Scaling        | Mean Absolute Error **(MAE)** | Mean Absolute Percentage Error **(MAPE)** |\n",
    "|----------------|-------------------------------|-------------------------------------------|\n",
    "| No Scaling     | 0.5747                        | 0.1043                                    |\n",
    "| MinMax         | 0.5336                        | 0.0923                                    |\n",
    "| StandardScaler | **0.5073**                    | **0.0885**                                |\n",
    "| RobustScaler   | 0.5373                        | 0.0962                                    |\n",
    "| Normalizer     | 0.6215                        | 0.1129                                    |"
   ],
   "metadata": {
    "collapsed": false
   }
  },
  {
   "cell_type": "markdown",
   "source": [
    "# Improving the Regression Model\n",
    "\n",
    "Obviously, the red wine has different properties than the white wine. We can use this to scale differently\n",
    "the 2 types of wine."
   ],
   "metadata": {
    "collapsed": false
   }
  },
  {
   "cell_type": "code",
   "execution_count": 5,
   "outputs": [
    {
     "name": "stdout",
     "output_type": "stream",
     "text": [
      "21/21 [==============================] - 0s 848us/step\n",
      "MAE: 0.5506982950063852\tMAPE: 0.09579753529021155\tScaling Method: MinMax\n",
      "21/21 [==============================] - 0s 758us/step\n",
      "MAE: 0.5123593665544803\tMAPE: 0.09001121112475029\tScaling Method: StandardScaler\n",
      "21/21 [==============================] - 0s 868us/step\n",
      "MAE: 0.5049129166969886\tMAPE: 0.08913842107612135\tScaling Method: RobustScaler\n",
      "21/21 [==============================] - 0s 798us/step\n",
      "MAE: 0.5900471496582032\tMAPE: 0.10255494306201027\tScaling Method: Normalizer\n"
     ]
    }
   ],
   "source": [
    "white_wine_ind = samples['type'] == 0.0\n",
    "red_wine_ind = samples['type'] == 1.0\n",
    "\n",
    "for scaling_method in scaling_methods:\n",
    "    if scaling_method != 'None':\n",
    "        scaled_x_train = x_train.copy()\n",
    "        scaled_x_test = x_test.copy()\n",
    "\n",
    "        white_scaler = scaling_methods[scaling_method]\n",
    "        scaled_x_train.loc[white_wine_ind] = white_scaler.fit_transform(scaled_x_train.loc[white_wine_ind])\n",
    "        scaled_x_test.loc[white_wine_ind] = white_scaler.transform(scaled_x_test.loc[white_wine_ind])\n",
    "\n",
    "        red_scaler = scaling_methods[scaling_method]\n",
    "        scaled_x_train.loc[red_wine_ind] = red_scaler.fit_transform(scaled_x_train.loc[red_wine_ind])\n",
    "        scaled_x_test.loc[red_wine_ind] = red_scaler.transform(scaled_x_test.loc[red_wine_ind])\n",
    "\n",
    "        model = build_model(x_train.shape[1:])\n",
    "        model.fit(\n",
    "            scaled_x_train,\n",
    "            y_train,\n",
    "            batch_size=batch_size,\n",
    "            epochs=epochs,\n",
    "            callbacks=[early_stopping],\n",
    "            validation_data=(scaled_x_test, y_test),\n",
    "            verbose=0\n",
    "        )\n",
    "        y_pred = model.predict(scaled_x_test)\n",
    "\n",
    "        mae = mean_absolute_error(y_test, y_pred)\n",
    "        mape = mean_absolute_percentage_error(y_test, y_pred)\n",
    "\n",
    "        print(f'MAE: {mae}\\tMAPE: {mape}\\tScaling Method: {scaling_method}')"
   ],
   "metadata": {
    "collapsed": false,
    "pycharm": {
     "name": "#%%\n"
    }
   }
  },
  {
   "cell_type": "markdown",
   "source": [
    "| Scaling        | Mean Absolute Error **(MAE)** | Mean Absolute Percentage Error **(MAPE)** |\n",
    "|----------------|-------------------------------|-------------------------------------------|\n",
    "| No Scaling     | 0.5747                        | 0.1043                                    |\n",
    "| MinMax         | 0.5507                        | 0.0958                                    |\n",
    "| StandardScaler | 0.5124                        | 0.0900                                    |\n",
    "| RobustScaler   | **0.5049**                    | **0.0891**                                |\n",
    "| Normalizer     | 0.5900                        | 0.1026                                    |\n",
    "\n",
    "We may notice that by using separate scalers for white and red wine samples the overal MAE was reduced"
   ],
   "metadata": {
    "collapsed": false
   }
  },
  {
   "cell_type": "markdown",
   "source": [
    "# Hyper-Parameter Tuning with Optuna"
   ],
   "metadata": {
    "collapsed": false
   }
  },
  {
   "cell_type": "code",
   "execution_count": 4,
   "outputs": [],
   "source": [
    "import optuna\n",
    "\n",
    "white_wine_ind = samples['type'] == 0.0\n",
    "red_wine_ind = samples['type'] == 1.0\n",
    "\n",
    "scaler = StandardScaler()\n",
    "x_train.loc[white_wine_ind] = scaler.fit_transform(x_train.loc[white_wine_ind])\n",
    "x_test.loc[white_wine_ind] = scaler.transform(x_test.loc[white_wine_ind])\n",
    "\n",
    "scaler = StandardScaler()\n",
    "x_train.loc[red_wine_ind] = scaler.fit_transform(x_train.loc[red_wine_ind])\n",
    "x_test.loc[red_wine_ind] = scaler.transform(x_test.loc[red_wine_ind])"
   ],
   "metadata": {
    "collapsed": false,
    "pycharm": {
     "name": "#%%\n"
    }
   }
  },
  {
   "cell_type": "code",
   "execution_count": 8,
   "outputs": [
    {
     "name": "stderr",
     "output_type": "stream",
     "text": [
      "\u001B[32m[I 2022-07-15 18:07:44,977]\u001B[0m A new study created in memory with name: no-name-20b38cfc-5d38-4c7e-9700-94c70a8a35ef\u001B[0m\n"
     ]
    },
    {
     "name": "stdout",
     "output_type": "stream",
     "text": [
      "21/21 [==============================] - 0s 748us/step\n"
     ]
    },
    {
     "name": "stderr",
     "output_type": "stream",
     "text": [
      "\u001B[32m[I 2022-07-15 18:08:40,118]\u001B[0m Trial 0 finished with value: 0.5385948093120868 and parameters: {'n_layers': 2, 'hidden_units_0': 169, 'use_batch_norm_0': 0, 'hidden_units_last': 208, 'optimizer': 'Yogi', 'loss': 'mae'}. Best is trial 0 with value: 0.5385948093120868.\u001B[0m\n"
     ]
    },
    {
     "name": "stdout",
     "output_type": "stream",
     "text": [
      "21/21 [==============================] - 0s 720us/step\n"
     ]
    },
    {
     "name": "stderr",
     "output_type": "stream",
     "text": [
      "\u001B[32m[I 2022-07-15 18:09:06,697]\u001B[0m Trial 1 finished with value: 5.213332895584978 and parameters: {'n_layers': 1, 'hidden_units_last': 44, 'optimizer': 'AdamW', 'loss': 'mape'}. Best is trial 0 with value: 0.5385948093120868.\u001B[0m\n"
     ]
    },
    {
     "name": "stdout",
     "output_type": "stream",
     "text": [
      "21/21 [==============================] - 0s 698us/step\n"
     ]
    },
    {
     "name": "stderr",
     "output_type": "stream",
     "text": [
      "\u001B[32m[I 2022-07-15 18:09:19,101]\u001B[0m Trial 2 finished with value: 1.8600141461078936 and parameters: {'n_layers': 2, 'hidden_units_0': 209, 'use_batch_norm_0': 0, 'hidden_units_last': 51, 'optimizer': 'AdamW', 'loss': 'mape'}. Best is trial 0 with value: 0.5385948093120868.\u001B[0m\n"
     ]
    },
    {
     "name": "stdout",
     "output_type": "stream",
     "text": [
      "21/21 [==============================] - 0s 648us/step\n"
     ]
    },
    {
     "name": "stderr",
     "output_type": "stream",
     "text": [
      "\u001B[32m[I 2022-07-15 18:10:02,722]\u001B[0m Trial 3 finished with value: 0.531550312775832 and parameters: {'n_layers': 1, 'hidden_units_last': 156, 'optimizer': 'Yogi', 'loss': 'mae'}. Best is trial 3 with value: 0.531550312775832.\u001B[0m\n"
     ]
    },
    {
     "name": "stdout",
     "output_type": "stream",
     "text": [
      "21/21 [==============================] - 0s 898us/step\n"
     ]
    },
    {
     "name": "stderr",
     "output_type": "stream",
     "text": [
      "\u001B[32m[I 2022-07-15 18:10:24,834]\u001B[0m Trial 4 finished with value: 0.662501441515409 and parameters: {'n_layers': 3, 'hidden_units_0': 74, 'use_batch_norm_0': 1, 'hidden_units_1': 145, 'use_batch_norm_1': 0, 'hidden_units_last': 126, 'optimizer': 'AdamW', 'loss': 'mae'}. Best is trial 3 with value: 0.531550312775832.\u001B[0m\n"
     ]
    },
    {
     "name": "stdout",
     "output_type": "stream",
     "text": [
      "21/21 [==============================] - 0s 798us/step\n"
     ]
    },
    {
     "name": "stderr",
     "output_type": "stream",
     "text": [
      "\u001B[32m[I 2022-07-15 18:10:51,178]\u001B[0m Trial 5 finished with value: 0.6493547835716834 and parameters: {'n_layers': 3, 'hidden_units_0': 95, 'use_batch_norm_0': 0, 'hidden_units_1': 254, 'use_batch_norm_1': 0, 'hidden_units_last': 90, 'optimizer': 'AdamW', 'loss': 'mse'}. Best is trial 3 with value: 0.531550312775832.\u001B[0m\n"
     ]
    },
    {
     "name": "stdout",
     "output_type": "stream",
     "text": [
      "21/21 [==============================] - 0s 764us/step\n"
     ]
    },
    {
     "name": "stderr",
     "output_type": "stream",
     "text": [
      "\u001B[32m[I 2022-07-15 18:11:11,346]\u001B[0m Trial 6 finished with value: 0.653750985952524 and parameters: {'n_layers': 2, 'hidden_units_0': 167, 'use_batch_norm_0': 0, 'hidden_units_last': 223, 'optimizer': 'AdamW', 'loss': 'mape'}. Best is trial 3 with value: 0.531550312775832.\u001B[0m\n"
     ]
    },
    {
     "name": "stdout",
     "output_type": "stream",
     "text": [
      "21/21 [==============================] - 0s 708us/step\n"
     ]
    },
    {
     "name": "stderr",
     "output_type": "stream",
     "text": [
      "\u001B[32m[I 2022-07-15 18:11:49,558]\u001B[0m Trial 7 finished with value: 0.5460694888921884 and parameters: {'n_layers': 1, 'hidden_units_last': 60, 'optimizer': 'Yogi', 'loss': 'mae'}. Best is trial 3 with value: 0.531550312775832.\u001B[0m\n"
     ]
    },
    {
     "name": "stdout",
     "output_type": "stream",
     "text": [
      "21/21 [==============================] - 0s 711us/step\n"
     ]
    },
    {
     "name": "stderr",
     "output_type": "stream",
     "text": [
      "\u001B[32m[I 2022-07-15 18:12:16,296]\u001B[0m Trial 8 finished with value: 0.5258808257029607 and parameters: {'n_layers': 2, 'hidden_units_0': 223, 'use_batch_norm_0': 0, 'hidden_units_last': 70, 'optimizer': 'Yogi', 'loss': 'mse'}. Best is trial 8 with value: 0.5258808257029607.\u001B[0m\n"
     ]
    },
    {
     "name": "stdout",
     "output_type": "stream",
     "text": [
      "21/21 [==============================] - 0s 648us/step\n"
     ]
    },
    {
     "name": "stderr",
     "output_type": "stream",
     "text": [
      "\u001B[32m[I 2022-07-15 18:12:51,474]\u001B[0m Trial 9 finished with value: 0.5595147195229163 and parameters: {'n_layers': 1, 'hidden_units_last': 43, 'optimizer': 'Yogi', 'loss': 'mape'}. Best is trial 8 with value: 0.5258808257029607.\u001B[0m\n"
     ]
    },
    {
     "name": "stdout",
     "output_type": "stream",
     "text": [
      "21/21 [==============================] - 0s 848us/step\n"
     ]
    },
    {
     "name": "stderr",
     "output_type": "stream",
     "text": [
      "\u001B[32m[I 2022-07-15 18:14:00,614]\u001B[0m Trial 10 finished with value: 0.5148054966559776 and parameters: {'n_layers': 3, 'hidden_units_0': 243, 'use_batch_norm_0': 1, 'hidden_units_1': 43, 'use_batch_norm_1': 1, 'hidden_units_last': 114, 'optimizer': 'Yogi', 'loss': 'mse'}. Best is trial 10 with value: 0.5148054966559776.\u001B[0m\n"
     ]
    },
    {
     "name": "stdout",
     "output_type": "stream",
     "text": [
      "21/21 [==============================] - 0s 898us/step\n"
     ]
    },
    {
     "name": "stderr",
     "output_type": "stream",
     "text": [
      "\u001B[32m[I 2022-07-15 18:15:24,855]\u001B[0m Trial 11 finished with value: 0.509449208332942 and parameters: {'n_layers': 3, 'hidden_units_0': 254, 'use_batch_norm_0': 1, 'hidden_units_1': 39, 'use_batch_norm_1': 1, 'hidden_units_last': 115, 'optimizer': 'Yogi', 'loss': 'mse'}. Best is trial 11 with value: 0.509449208332942.\u001B[0m\n"
     ]
    },
    {
     "name": "stdout",
     "output_type": "stream",
     "text": [
      "21/21 [==============================] - 0s 947us/step\n"
     ]
    },
    {
     "name": "stderr",
     "output_type": "stream",
     "text": [
      "\u001B[32m[I 2022-07-15 18:16:47,579]\u001B[0m Trial 12 finished with value: 0.5033799384190486 and parameters: {'n_layers': 3, 'hidden_units_0': 256, 'use_batch_norm_0': 1, 'hidden_units_1': 32, 'use_batch_norm_1': 1, 'hidden_units_last': 125, 'optimizer': 'Yogi', 'loss': 'mse'}. Best is trial 12 with value: 0.5033799384190486.\u001B[0m\n"
     ]
    },
    {
     "name": "stdout",
     "output_type": "stream",
     "text": [
      "21/21 [==============================] - 0s 898us/step\n"
     ]
    },
    {
     "name": "stderr",
     "output_type": "stream",
     "text": [
      "\u001B[32m[I 2022-07-15 18:18:07,547]\u001B[0m Trial 13 finished with value: 0.5230167000110333 and parameters: {'n_layers': 3, 'hidden_units_0': 242, 'use_batch_norm_0': 1, 'hidden_units_1': 32, 'use_batch_norm_1': 1, 'hidden_units_last': 171, 'optimizer': 'Yogi', 'loss': 'mse'}. Best is trial 12 with value: 0.5033799384190486.\u001B[0m\n"
     ]
    },
    {
     "name": "stdout",
     "output_type": "stream",
     "text": [
      "21/21 [==============================] - 0s 898us/step\n"
     ]
    },
    {
     "name": "stderr",
     "output_type": "stream",
     "text": [
      "\u001B[32m[I 2022-07-15 18:19:28,704]\u001B[0m Trial 14 finished with value: 0.4855645022025475 and parameters: {'n_layers': 3, 'hidden_units_0': 196, 'use_batch_norm_0': 1, 'hidden_units_1': 105, 'use_batch_norm_1': 1, 'hidden_units_last': 105, 'optimizer': 'Yogi', 'loss': 'mse'}. Best is trial 14 with value: 0.4855645022025475.\u001B[0m\n"
     ]
    },
    {
     "name": "stdout",
     "output_type": "stream",
     "text": [
      "21/21 [==============================] - 0s 848us/step\n"
     ]
    },
    {
     "name": "stderr",
     "output_type": "stream",
     "text": [
      "\u001B[32m[I 2022-07-15 18:20:48,724]\u001B[0m Trial 15 finished with value: 0.49853695942805365 and parameters: {'n_layers': 3, 'hidden_units_0': 191, 'use_batch_norm_0': 1, 'hidden_units_1': 118, 'use_batch_norm_1': 1, 'hidden_units_last': 176, 'optimizer': 'Yogi', 'loss': 'mse'}. Best is trial 14 with value: 0.4855645022025475.\u001B[0m\n"
     ]
    },
    {
     "name": "stdout",
     "output_type": "stream",
     "text": [
      "21/21 [==============================] - 0s 874us/step\n"
     ]
    },
    {
     "name": "stderr",
     "output_type": "stream",
     "text": [
      "\u001B[32m[I 2022-07-15 18:21:33,417]\u001B[0m Trial 16 finished with value: 0.5443208987896259 and parameters: {'n_layers': 3, 'hidden_units_0': 121, 'use_batch_norm_0': 1, 'hidden_units_1': 117, 'use_batch_norm_1': 1, 'hidden_units_last': 192, 'optimizer': 'Yogi', 'loss': 'mse'}. Best is trial 14 with value: 0.4855645022025475.\u001B[0m\n"
     ]
    },
    {
     "name": "stdout",
     "output_type": "stream",
     "text": [
      "21/21 [==============================] - 0s 798us/step\n"
     ]
    },
    {
     "name": "stderr",
     "output_type": "stream",
     "text": [
      "\u001B[32m[I 2022-07-15 18:22:14,020]\u001B[0m Trial 17 finished with value: 0.5320751358912541 and parameters: {'n_layers': 2, 'hidden_units_0': 188, 'use_batch_norm_0': 1, 'hidden_units_last': 236, 'optimizer': 'Yogi', 'loss': 'mse'}. Best is trial 14 with value: 0.4855645022025475.\u001B[0m\n"
     ]
    },
    {
     "name": "stdout",
     "output_type": "stream",
     "text": [
      "21/21 [==============================] - 0s 947us/step\n"
     ]
    },
    {
     "name": "stderr",
     "output_type": "stream",
     "text": [
      "\u001B[32m[I 2022-07-15 18:23:35,069]\u001B[0m Trial 18 finished with value: 0.5081002063017626 and parameters: {'n_layers': 3, 'hidden_units_0': 35, 'use_batch_norm_0': 1, 'hidden_units_1': 122, 'use_batch_norm_1': 1, 'hidden_units_last': 187, 'optimizer': 'Yogi', 'loss': 'mse'}. Best is trial 14 with value: 0.4855645022025475.\u001B[0m\n"
     ]
    },
    {
     "name": "stdout",
     "output_type": "stream",
     "text": [
      "21/21 [==============================] - 0s 848us/step\n"
     ]
    },
    {
     "name": "stderr",
     "output_type": "stream",
     "text": [
      "\u001B[32m[I 2022-07-15 18:24:39,882]\u001B[0m Trial 19 finished with value: 0.47947508041675274 and parameters: {'n_layers': 3, 'hidden_units_0': 143, 'use_batch_norm_0': 1, 'hidden_units_1': 163, 'use_batch_norm_1': 0, 'hidden_units_last': 152, 'optimizer': 'Yogi', 'loss': 'mse'}. Best is trial 19 with value: 0.47947508041675274.\u001B[0m\n"
     ]
    },
    {
     "name": "stdout",
     "output_type": "stream",
     "text": [
      "21/21 [==============================] - 0s 803us/step\n"
     ]
    },
    {
     "name": "stderr",
     "output_type": "stream",
     "text": [
      "\u001B[32m[I 2022-07-15 18:25:15,952]\u001B[0m Trial 20 finished with value: 0.5414736777085525 and parameters: {'n_layers': 2, 'hidden_units_0': 130, 'use_batch_norm_0': 1, 'hidden_units_last': 89, 'optimizer': 'Yogi', 'loss': 'mse'}. Best is trial 19 with value: 0.47947508041675274.\u001B[0m\n"
     ]
    },
    {
     "name": "stdout",
     "output_type": "stream",
     "text": [
      "21/21 [==============================] - 0s 841us/step\n"
     ]
    },
    {
     "name": "stderr",
     "output_type": "stream",
     "text": [
      "\u001B[32m[I 2022-07-15 18:26:27,009]\u001B[0m Trial 21 finished with value: 0.46377170159266545 and parameters: {'n_layers': 3, 'hidden_units_0': 160, 'use_batch_norm_0': 1, 'hidden_units_1': 174, 'use_batch_norm_1': 0, 'hidden_units_last': 156, 'optimizer': 'Yogi', 'loss': 'mse'}. Best is trial 21 with value: 0.46377170159266545.\u001B[0m\n"
     ]
    },
    {
     "name": "stdout",
     "output_type": "stream",
     "text": [
      "21/21 [==============================] - 0s 918us/step\n"
     ]
    },
    {
     "name": "stderr",
     "output_type": "stream",
     "text": [
      "\u001B[32m[I 2022-07-15 18:27:38,202]\u001B[0m Trial 22 finished with value: 0.5038847086979793 and parameters: {'n_layers': 3, 'hidden_units_0': 153, 'use_batch_norm_0': 1, 'hidden_units_1': 182, 'use_batch_norm_1': 0, 'hidden_units_last': 152, 'optimizer': 'Yogi', 'loss': 'mse'}. Best is trial 21 with value: 0.46377170159266545.\u001B[0m\n"
     ]
    },
    {
     "name": "stdout",
     "output_type": "stream",
     "text": [
      "21/21 [==============================] - 0s 879us/step\n"
     ]
    },
    {
     "name": "stderr",
     "output_type": "stream",
     "text": [
      "\u001B[32m[I 2022-07-15 18:28:47,930]\u001B[0m Trial 23 finished with value: 0.4739088564652663 and parameters: {'n_layers': 3, 'hidden_units_0': 142, 'use_batch_norm_0': 1, 'hidden_units_1': 183, 'use_batch_norm_1': 0, 'hidden_units_last': 140, 'optimizer': 'Yogi', 'loss': 'mse'}. Best is trial 21 with value: 0.46377170159266545.\u001B[0m\n"
     ]
    },
    {
     "name": "stdout",
     "output_type": "stream",
     "text": [
      "21/21 [==============================] - 0s 848us/step\n"
     ]
    },
    {
     "name": "stderr",
     "output_type": "stream",
     "text": [
      "\u001B[32m[I 2022-07-15 18:29:38,499]\u001B[0m Trial 24 finished with value: 0.5155580065800593 and parameters: {'n_layers': 3, 'hidden_units_0': 108, 'use_batch_norm_0': 1, 'hidden_units_1': 191, 'use_batch_norm_1': 0, 'hidden_units_last': 136, 'optimizer': 'Yogi', 'loss': 'mse'}. Best is trial 21 with value: 0.46377170159266545.\u001B[0m\n"
     ]
    },
    {
     "name": "stdout",
     "output_type": "stream",
     "text": [
      "21/21 [==============================] - 0s 798us/step\n"
     ]
    },
    {
     "name": "stderr",
     "output_type": "stream",
     "text": [
      "\u001B[32m[I 2022-07-15 18:30:25,782]\u001B[0m Trial 25 finished with value: 0.5246667942633996 and parameters: {'n_layers': 2, 'hidden_units_0': 146, 'use_batch_norm_0': 1, 'hidden_units_last': 158, 'optimizer': 'Yogi', 'loss': 'mse'}. Best is trial 21 with value: 0.46377170159266545.\u001B[0m\n"
     ]
    },
    {
     "name": "stdout",
     "output_type": "stream",
     "text": [
      "21/21 [==============================] - 0s 848us/step\n"
     ]
    },
    {
     "name": "stderr",
     "output_type": "stream",
     "text": [
      "\u001B[32m[I 2022-07-15 18:30:47,417]\u001B[0m Trial 26 finished with value: 0.5986809459099403 and parameters: {'n_layers': 3, 'hidden_units_0': 161, 'use_batch_norm_0': 1, 'hidden_units_1': 188, 'use_batch_norm_1': 0, 'hidden_units_last': 146, 'optimizer': 'AdamW', 'loss': 'mse'}. Best is trial 21 with value: 0.46377170159266545.\u001B[0m\n"
     ]
    },
    {
     "name": "stdout",
     "output_type": "stream",
     "text": [
      "21/21 [==============================] - 0s 849us/step\n"
     ]
    },
    {
     "name": "stderr",
     "output_type": "stream",
     "text": [
      "\u001B[32m[I 2022-07-15 18:31:44,018]\u001B[0m Trial 27 finished with value: 0.4786649960737962 and parameters: {'n_layers': 3, 'hidden_units_0': 132, 'use_batch_norm_0': 1, 'hidden_units_1': 229, 'use_batch_norm_1': 0, 'hidden_units_last': 169, 'optimizer': 'Yogi', 'loss': 'mse'}. Best is trial 21 with value: 0.46377170159266545.\u001B[0m\n"
     ]
    },
    {
     "name": "stdout",
     "output_type": "stream",
     "text": [
      "21/21 [==============================] - 0s 794us/step\n"
     ]
    },
    {
     "name": "stderr",
     "output_type": "stream",
     "text": [
      "\u001B[32m[I 2022-07-15 18:32:42,834]\u001B[0m Trial 28 finished with value: 0.49806565358088567 and parameters: {'n_layers': 2, 'hidden_units_0': 86, 'use_batch_norm_0': 1, 'hidden_units_last': 200, 'optimizer': 'Yogi', 'loss': 'mae'}. Best is trial 21 with value: 0.46377170159266545.\u001B[0m\n"
     ]
    },
    {
     "name": "stdout",
     "output_type": "stream",
     "text": [
      "21/21 [==============================] - 0s 866us/step\n"
     ]
    },
    {
     "name": "stderr",
     "output_type": "stream",
     "text": [
      "\u001B[32m[I 2022-07-15 18:33:53,767]\u001B[0m Trial 29 finished with value: 0.48082441843472995 and parameters: {'n_layers': 3, 'hidden_units_0': 127, 'use_batch_norm_0': 1, 'hidden_units_1': 230, 'use_batch_norm_1': 0, 'hidden_units_last': 220, 'optimizer': 'Yogi', 'loss': 'mape'}. Best is trial 21 with value: 0.46377170159266545.\u001B[0m\n"
     ]
    },
    {
     "name": "stdout",
     "output_type": "stream",
     "text": [
      "21/21 [==============================] - 0s 709us/step\n"
     ]
    },
    {
     "name": "stderr",
     "output_type": "stream",
     "text": [
      "\u001B[32m[I 2022-07-15 18:34:36,087]\u001B[0m Trial 30 finished with value: 0.5161285807536199 and parameters: {'n_layers': 2, 'hidden_units_0': 60, 'use_batch_norm_0': 0, 'hidden_units_last': 177, 'optimizer': 'Yogi', 'loss': 'mae'}. Best is trial 21 with value: 0.46377170159266545.\u001B[0m\n"
     ]
    },
    {
     "name": "stdout",
     "output_type": "stream",
     "text": [
      "21/21 [==============================] - 0s 848us/step\n"
     ]
    },
    {
     "name": "stderr",
     "output_type": "stream",
     "text": [
      "\u001B[32m[I 2022-07-15 18:35:45,978]\u001B[0m Trial 31 finished with value: 0.4797979208139273 and parameters: {'n_layers': 3, 'hidden_units_0': 142, 'use_batch_norm_0': 1, 'hidden_units_1': 162, 'use_batch_norm_1': 0, 'hidden_units_last': 165, 'optimizer': 'Yogi', 'loss': 'mse'}. Best is trial 21 with value: 0.46377170159266545.\u001B[0m\n"
     ]
    },
    {
     "name": "stdout",
     "output_type": "stream",
     "text": [
      "21/21 [==============================] - 0s 898us/step\n"
     ]
    },
    {
     "name": "stderr",
     "output_type": "stream",
     "text": [
      "\u001B[32m[I 2022-07-15 18:36:57,947]\u001B[0m Trial 32 finished with value: 0.46675801277160645 and parameters: {'n_layers': 3, 'hidden_units_0': 113, 'use_batch_norm_0': 1, 'hidden_units_1': 212, 'use_batch_norm_1': 0, 'hidden_units_last': 139, 'optimizer': 'Yogi', 'loss': 'mse'}. Best is trial 21 with value: 0.46377170159266545.\u001B[0m\n"
     ]
    },
    {
     "name": "stdout",
     "output_type": "stream",
     "text": [
      "21/21 [==============================] - 0s 923us/step\n"
     ]
    },
    {
     "name": "stderr",
     "output_type": "stream",
     "text": [
      "\u001B[32m[I 2022-07-15 18:38:10,139]\u001B[0m Trial 33 finished with value: 0.4826749262442956 and parameters: {'n_layers': 3, 'hidden_units_0': 114, 'use_batch_norm_0': 1, 'hidden_units_1': 218, 'use_batch_norm_1': 0, 'hidden_units_last': 133, 'optimizer': 'Yogi', 'loss': 'mse'}. Best is trial 21 with value: 0.46377170159266545.\u001B[0m\n"
     ]
    },
    {
     "name": "stdout",
     "output_type": "stream",
     "text": [
      "21/21 [==============================] - 0s 848us/step\n"
     ]
    },
    {
     "name": "stderr",
     "output_type": "stream",
     "text": [
      "\u001B[32m[I 2022-07-15 18:38:31,330]\u001B[0m Trial 34 finished with value: 0.7178988709816566 and parameters: {'n_layers': 3, 'hidden_units_0': 180, 'use_batch_norm_0': 1, 'hidden_units_1': 213, 'use_batch_norm_1': 0, 'hidden_units_last': 138, 'optimizer': 'AdamW', 'loss': 'mape'}. Best is trial 21 with value: 0.46377170159266545.\u001B[0m\n"
     ]
    },
    {
     "name": "stdout",
     "output_type": "stream",
     "text": [
      "21/21 [==============================] - 0s 895us/step\n"
     ]
    },
    {
     "name": "stderr",
     "output_type": "stream",
     "text": [
      "\u001B[32m[I 2022-07-15 18:39:41,866]\u001B[0m Trial 35 finished with value: 0.4875486318881695 and parameters: {'n_layers': 3, 'hidden_units_0': 173, 'use_batch_norm_0': 1, 'hidden_units_1': 243, 'use_batch_norm_1': 0, 'hidden_units_last': 256, 'optimizer': 'Yogi', 'loss': 'mse'}. Best is trial 21 with value: 0.46377170159266545.\u001B[0m\n"
     ]
    },
    {
     "name": "stdout",
     "output_type": "stream",
     "text": [
      "21/21 [==============================] - 0s 897us/step\n"
     ]
    },
    {
     "name": "stderr",
     "output_type": "stream",
     "text": [
      "\u001B[32m[I 2022-07-15 18:40:00,484]\u001B[0m Trial 36 finished with value: 0.6333594564291147 and parameters: {'n_layers': 3, 'hidden_units_0': 100, 'use_batch_norm_0': 1, 'hidden_units_1': 207, 'use_batch_norm_1': 0, 'hidden_units_last': 101, 'optimizer': 'AdamW', 'loss': 'mse'}. Best is trial 21 with value: 0.46377170159266545.\u001B[0m\n"
     ]
    },
    {
     "name": "stdout",
     "output_type": "stream",
     "text": [
      "21/21 [==============================] - 0s 797us/step\n"
     ]
    },
    {
     "name": "stderr",
     "output_type": "stream",
     "text": [
      "\u001B[32m[I 2022-07-15 18:40:59,867]\u001B[0m Trial 37 finished with value: 0.45770603840167706 and parameters: {'n_layers': 3, 'hidden_units_0': 131, 'use_batch_norm_0': 0, 'hidden_units_1': 199, 'use_batch_norm_1': 0, 'hidden_units_last': 186, 'optimizer': 'Yogi', 'loss': 'mae'}. Best is trial 37 with value: 0.45770603840167706.\u001B[0m\n"
     ]
    },
    {
     "name": "stdout",
     "output_type": "stream",
     "text": [
      "21/21 [==============================] - 0s 1ms/step\n"
     ]
    },
    {
     "name": "stderr",
     "output_type": "stream",
     "text": [
      "\u001B[32m[I 2022-07-15 18:41:13,434]\u001B[0m Trial 38 finished with value: 0.7636546171628512 and parameters: {'n_layers': 2, 'hidden_units_0': 82, 'use_batch_norm_0': 0, 'hidden_units_last': 210, 'optimizer': 'AdamW', 'loss': 'mae'}. Best is trial 37 with value: 0.45770603840167706.\u001B[0m\n"
     ]
    },
    {
     "name": "stdout",
     "output_type": "stream",
     "text": [
      "21/21 [==============================] - 0s 670us/step\n"
     ]
    },
    {
     "name": "stderr",
     "output_type": "stream",
     "text": [
      "\u001B[32m[I 2022-07-15 18:41:52,955]\u001B[0m Trial 39 finished with value: 0.5373619101597713 and parameters: {'n_layers': 1, 'hidden_units_last': 125, 'optimizer': 'Yogi', 'loss': 'mae'}. Best is trial 37 with value: 0.45770603840167706.\u001B[0m\n"
     ]
    },
    {
     "name": "stdout",
     "output_type": "stream",
     "text": [
      "21/21 [==============================] - 0s 848us/step\n"
     ]
    },
    {
     "name": "stderr",
     "output_type": "stream",
     "text": [
      "\u001B[32m[I 2022-07-15 18:42:52,815]\u001B[0m Trial 40 finished with value: 0.4768749501154973 and parameters: {'n_layers': 3, 'hidden_units_0': 157, 'use_batch_norm_0': 0, 'hidden_units_1': 163, 'use_batch_norm_1': 0, 'hidden_units_last': 188, 'optimizer': 'Yogi', 'loss': 'mae'}. Best is trial 37 with value: 0.45770603840167706.\u001B[0m\n"
     ]
    },
    {
     "name": "stdout",
     "output_type": "stream",
     "text": [
      "21/21 [==============================] - 0s 798us/step\n"
     ]
    },
    {
     "name": "stderr",
     "output_type": "stream",
     "text": [
      "\u001B[32m[I 2022-07-15 18:43:54,124]\u001B[0m Trial 41 finished with value: 0.4326023167830247 and parameters: {'n_layers': 3, 'hidden_units_0': 160, 'use_batch_norm_0': 0, 'hidden_units_1': 169, 'use_batch_norm_1': 0, 'hidden_units_last': 191, 'optimizer': 'Yogi', 'loss': 'mae'}. Best is trial 41 with value: 0.4326023167830247.\u001B[0m\n"
     ]
    },
    {
     "name": "stdout",
     "output_type": "stream",
     "text": [
      "21/21 [==============================] - 0s 821us/step\n"
     ]
    },
    {
     "name": "stderr",
     "output_type": "stream",
     "text": [
      "\u001B[32m[I 2022-07-15 18:44:54,243]\u001B[0m Trial 42 finished with value: 0.4614516261907724 and parameters: {'n_layers': 3, 'hidden_units_0': 138, 'use_batch_norm_0': 0, 'hidden_units_1': 198, 'use_batch_norm_1': 0, 'hidden_units_last': 203, 'optimizer': 'Yogi', 'loss': 'mae'}. Best is trial 41 with value: 0.4326023167830247.\u001B[0m\n"
     ]
    },
    {
     "name": "stdout",
     "output_type": "stream",
     "text": [
      "21/21 [==============================] - 0s 810us/step\n"
     ]
    },
    {
     "name": "stderr",
     "output_type": "stream",
     "text": [
      "\u001B[32m[I 2022-07-15 18:45:53,957]\u001B[0m Trial 43 finished with value: 0.449553620998676 and parameters: {'n_layers': 3, 'hidden_units_0': 207, 'use_batch_norm_0': 0, 'hidden_units_1': 204, 'use_batch_norm_1': 0, 'hidden_units_last': 207, 'optimizer': 'Yogi', 'loss': 'mae'}. Best is trial 41 with value: 0.4326023167830247.\u001B[0m\n"
     ]
    },
    {
     "name": "stdout",
     "output_type": "stream",
     "text": [
      "21/21 [==============================] - 0s 801us/step\n"
     ]
    },
    {
     "name": "stderr",
     "output_type": "stream",
     "text": [
      "\u001B[32m[I 2022-07-15 18:46:53,554]\u001B[0m Trial 44 finished with value: 0.4518682986039382 and parameters: {'n_layers': 3, 'hidden_units_0': 213, 'use_batch_norm_0': 0, 'hidden_units_1': 197, 'use_batch_norm_1': 0, 'hidden_units_last': 205, 'optimizer': 'Yogi', 'loss': 'mae'}. Best is trial 41 with value: 0.4326023167830247.\u001B[0m\n"
     ]
    },
    {
     "name": "stdout",
     "output_type": "stream",
     "text": [
      "21/21 [==============================] - 0s 798us/step\n"
     ]
    },
    {
     "name": "stderr",
     "output_type": "stream",
     "text": [
      "\u001B[32m[I 2022-07-15 18:47:56,828]\u001B[0m Trial 45 finished with value: 0.4388093354151799 and parameters: {'n_layers': 3, 'hidden_units_0': 223, 'use_batch_norm_0': 0, 'hidden_units_1': 199, 'use_batch_norm_1': 0, 'hidden_units_last': 233, 'optimizer': 'Yogi', 'loss': 'mae'}. Best is trial 41 with value: 0.4326023167830247.\u001B[0m\n"
     ]
    },
    {
     "name": "stdout",
     "output_type": "stream",
     "text": [
      "21/21 [==============================] - 0s 807us/step\n"
     ]
    },
    {
     "name": "stderr",
     "output_type": "stream",
     "text": [
      "\u001B[32m[I 2022-07-15 18:48:12,503]\u001B[0m Trial 46 finished with value: 0.6026899003982544 and parameters: {'n_layers': 3, 'hidden_units_0': 217, 'use_batch_norm_0': 0, 'hidden_units_1': 144, 'use_batch_norm_1': 0, 'hidden_units_last': 239, 'optimizer': 'AdamW', 'loss': 'mae'}. Best is trial 41 with value: 0.4326023167830247.\u001B[0m\n"
     ]
    },
    {
     "name": "stdout",
     "output_type": "stream",
     "text": [
      "21/21 [==============================] - 0s 772us/step\n"
     ]
    },
    {
     "name": "stderr",
     "output_type": "stream",
     "text": [
      "\u001B[32m[I 2022-07-15 18:49:17,147]\u001B[0m Trial 47 finished with value: 0.45111532284663275 and parameters: {'n_layers': 3, 'hidden_units_0': 229, 'use_batch_norm_0': 0, 'hidden_units_1': 199, 'use_batch_norm_1': 0, 'hidden_units_last': 217, 'optimizer': 'Yogi', 'loss': 'mae'}. Best is trial 41 with value: 0.4326023167830247.\u001B[0m\n"
     ]
    },
    {
     "name": "stdout",
     "output_type": "stream",
     "text": [
      "21/21 [==============================] - 0s 848us/step\n"
     ]
    },
    {
     "name": "stderr",
     "output_type": "stream",
     "text": [
      "\u001B[32m[I 2022-07-15 18:50:19,975]\u001B[0m Trial 48 finished with value: 0.4324150411899273 and parameters: {'n_layers': 3, 'hidden_units_0': 229, 'use_batch_norm_0': 0, 'hidden_units_1': 230, 'use_batch_norm_1': 0, 'hidden_units_last': 218, 'optimizer': 'Yogi', 'loss': 'mae'}. Best is trial 48 with value: 0.4324150411899273.\u001B[0m\n"
     ]
    },
    {
     "name": "stdout",
     "output_type": "stream",
     "text": [
      "21/21 [==============================] - 0s 909us/step\n"
     ]
    },
    {
     "name": "stderr",
     "output_type": "stream",
     "text": [
      "\u001B[32m[I 2022-07-15 18:51:24,172]\u001B[0m Trial 49 finished with value: 0.465242174588717 and parameters: {'n_layers': 3, 'hidden_units_0': 230, 'use_batch_norm_0': 0, 'hidden_units_1': 255, 'use_batch_norm_1': 0, 'hidden_units_last': 222, 'optimizer': 'Yogi', 'loss': 'mae'}. Best is trial 48 with value: 0.4324150411899273.\u001B[0m\n"
     ]
    },
    {
     "name": "stdout",
     "output_type": "stream",
     "text": [
      "21/21 [==============================] - 0s 798us/step\n"
     ]
    },
    {
     "name": "stderr",
     "output_type": "stream",
     "text": [
      "\u001B[32m[I 2022-07-15 18:52:05,422]\u001B[0m Trial 50 finished with value: 0.535535007256728 and parameters: {'n_layers': 1, 'hidden_units_last': 235, 'optimizer': 'Yogi', 'loss': 'mae'}. Best is trial 48 with value: 0.4324150411899273.\u001B[0m\n"
     ]
    },
    {
     "name": "stdout",
     "output_type": "stream",
     "text": [
      "21/21 [==============================] - 0s 848us/step\n"
     ]
    },
    {
     "name": "stderr",
     "output_type": "stream",
     "text": [
      "\u001B[32m[I 2022-07-15 18:53:01,396]\u001B[0m Trial 51 finished with value: 0.480418273302225 and parameters: {'n_layers': 3, 'hidden_units_0': 212, 'use_batch_norm_0': 0, 'hidden_units_1': 234, 'use_batch_norm_1': 0, 'hidden_units_last': 211, 'optimizer': 'Yogi', 'loss': 'mae'}. Best is trial 48 with value: 0.4324150411899273.\u001B[0m\n"
     ]
    },
    {
     "name": "stdout",
     "output_type": "stream",
     "text": [
      "21/21 [==============================] - 0s 799us/step\n"
     ]
    },
    {
     "name": "stderr",
     "output_type": "stream",
     "text": [
      "\u001B[32m[I 2022-07-15 18:54:04,753]\u001B[0m Trial 52 finished with value: 0.4422108477812547 and parameters: {'n_layers': 3, 'hidden_units_0': 203, 'use_batch_norm_0': 0, 'hidden_units_1': 219, 'use_batch_norm_1': 0, 'hidden_units_last': 250, 'optimizer': 'Yogi', 'loss': 'mae'}. Best is trial 48 with value: 0.4324150411899273.\u001B[0m\n"
     ]
    },
    {
     "name": "stdout",
     "output_type": "stream",
     "text": [
      "21/21 [==============================] - 0s 855us/step\n"
     ]
    },
    {
     "name": "stderr",
     "output_type": "stream",
     "text": [
      "\u001B[32m[I 2022-07-15 18:55:08,132]\u001B[0m Trial 53 finished with value: 0.44056106127225436 and parameters: {'n_layers': 3, 'hidden_units_0': 234, 'use_batch_norm_0': 0, 'hidden_units_1': 222, 'use_batch_norm_1': 0, 'hidden_units_last': 249, 'optimizer': 'Yogi', 'loss': 'mae'}. Best is trial 48 with value: 0.4324150411899273.\u001B[0m\n"
     ]
    },
    {
     "name": "stdout",
     "output_type": "stream",
     "text": [
      "21/21 [==============================] - 0s 798us/step\n"
     ]
    },
    {
     "name": "stderr",
     "output_type": "stream",
     "text": [
      "\u001B[32m[I 2022-07-15 18:56:12,085]\u001B[0m Trial 54 finished with value: 0.44575471804692196 and parameters: {'n_layers': 3, 'hidden_units_0': 243, 'use_batch_norm_0': 0, 'hidden_units_1': 225, 'use_batch_norm_1': 0, 'hidden_units_last': 254, 'optimizer': 'Yogi', 'loss': 'mae'}. Best is trial 48 with value: 0.4324150411899273.\u001B[0m\n"
     ]
    },
    {
     "name": "stdout",
     "output_type": "stream",
     "text": [
      "21/21 [==============================] - 0s 848us/step\n"
     ]
    },
    {
     "name": "stderr",
     "output_type": "stream",
     "text": [
      "\u001B[32m[I 2022-07-15 18:57:16,574]\u001B[0m Trial 55 finished with value: 0.4111724328994751 and parameters: {'n_layers': 3, 'hidden_units_0': 240, 'use_batch_norm_0': 0, 'hidden_units_1': 219, 'use_batch_norm_1': 0, 'hidden_units_last': 251, 'optimizer': 'Yogi', 'loss': 'mae'}. Best is trial 55 with value: 0.4111724328994751.\u001B[0m\n"
     ]
    },
    {
     "name": "stdout",
     "output_type": "stream",
     "text": [
      "21/21 [==============================] - 0s 1ms/step\n"
     ]
    },
    {
     "name": "stderr",
     "output_type": "stream",
     "text": [
      "\u001B[32m[I 2022-07-15 18:58:19,261]\u001B[0m Trial 56 finished with value: 0.4522848804180439 and parameters: {'n_layers': 3, 'hidden_units_0': 199, 'use_batch_norm_0': 0, 'hidden_units_1': 244, 'use_batch_norm_1': 0, 'hidden_units_last': 245, 'optimizer': 'Yogi', 'loss': 'mae'}. Best is trial 55 with value: 0.4111724328994751.\u001B[0m\n"
     ]
    },
    {
     "name": "stdout",
     "output_type": "stream",
     "text": [
      "21/21 [==============================] - 0s 813us/step\n"
     ]
    },
    {
     "name": "stderr",
     "output_type": "stream",
     "text": [
      "\u001B[32m[I 2022-07-15 18:59:22,532]\u001B[0m Trial 57 finished with value: 0.43234496666834904 and parameters: {'n_layers': 3, 'hidden_units_0': 238, 'use_batch_norm_0': 0, 'hidden_units_1': 245, 'use_batch_norm_1': 0, 'hidden_units_last': 231, 'optimizer': 'Yogi', 'loss': 'mae'}. Best is trial 55 with value: 0.4111724328994751.\u001B[0m\n"
     ]
    },
    {
     "name": "stdout",
     "output_type": "stream",
     "text": [
      "21/21 [==============================] - 0s 798us/step\n"
     ]
    },
    {
     "name": "stderr",
     "output_type": "stream",
     "text": [
      "\u001B[32m[I 2022-07-15 19:00:15,267]\u001B[0m Trial 58 finished with value: 0.4942438371364887 and parameters: {'n_layers': 2, 'hidden_units_0': 251, 'use_batch_norm_0': 0, 'hidden_units_last': 229, 'optimizer': 'Yogi', 'loss': 'mae'}. Best is trial 55 with value: 0.4111724328994751.\u001B[0m\n"
     ]
    },
    {
     "name": "stdout",
     "output_type": "stream",
     "text": [
      "21/21 [==============================] - 0s 796us/step\n"
     ]
    },
    {
     "name": "stderr",
     "output_type": "stream",
     "text": [
      "\u001B[32m[I 2022-07-15 19:00:30,137]\u001B[0m Trial 59 finished with value: 0.613933742229755 and parameters: {'n_layers': 3, 'hidden_units_0': 234, 'use_batch_norm_0': 0, 'hidden_units_1': 242, 'use_batch_norm_1': 0, 'hidden_units_last': 228, 'optimizer': 'AdamW', 'loss': 'mae'}. Best is trial 55 with value: 0.4111724328994751.\u001B[0m\n"
     ]
    },
    {
     "name": "stdout",
     "output_type": "stream",
     "text": [
      "21/21 [==============================] - 0s 848us/step\n"
     ]
    },
    {
     "name": "stderr",
     "output_type": "stream",
     "text": [
      "\u001B[32m[I 2022-07-15 19:01:33,255]\u001B[0m Trial 60 finished with value: 0.4639179174716656 and parameters: {'n_layers': 3, 'hidden_units_0': 238, 'use_batch_norm_0': 0, 'hidden_units_1': 237, 'use_batch_norm_1': 0, 'hidden_units_last': 244, 'optimizer': 'Yogi', 'loss': 'mae'}. Best is trial 55 with value: 0.4111724328994751.\u001B[0m\n"
     ]
    },
    {
     "name": "stdout",
     "output_type": "stream",
     "text": [
      "21/21 [==============================] - 0s 901us/step\n"
     ]
    },
    {
     "name": "stderr",
     "output_type": "stream",
     "text": [
      "\u001B[32m[I 2022-07-15 19:02:38,762]\u001B[0m Trial 61 finished with value: 0.4558307537665734 and parameters: {'n_layers': 3, 'hidden_units_0': 222, 'use_batch_norm_0': 0, 'hidden_units_1': 221, 'use_batch_norm_1': 0, 'hidden_units_last': 247, 'optimizer': 'Yogi', 'loss': 'mae'}. Best is trial 55 with value: 0.4111724328994751.\u001B[0m\n"
     ]
    },
    {
     "name": "stdout",
     "output_type": "stream",
     "text": [
      "21/21 [==============================] - 0s 900us/step\n"
     ]
    },
    {
     "name": "stderr",
     "output_type": "stream",
     "text": [
      "\u001B[32m[I 2022-07-15 19:03:42,364]\u001B[0m Trial 62 finished with value: 0.4544347289892343 and parameters: {'n_layers': 3, 'hidden_units_0': 250, 'use_batch_norm_0': 0, 'hidden_units_1': 248, 'use_batch_norm_1': 0, 'hidden_units_last': 231, 'optimizer': 'Yogi', 'loss': 'mae'}. Best is trial 55 with value: 0.4111724328994751.\u001B[0m\n"
     ]
    },
    {
     "name": "stdout",
     "output_type": "stream",
     "text": [
      "21/21 [==============================] - 0s 798us/step\n"
     ]
    },
    {
     "name": "stderr",
     "output_type": "stream",
     "text": [
      "\u001B[32m[I 2022-07-15 19:04:45,967]\u001B[0m Trial 63 finished with value: 0.45301569278423603 and parameters: {'n_layers': 3, 'hidden_units_0': 203, 'use_batch_norm_0': 0, 'hidden_units_1': 221, 'use_batch_norm_1': 0, 'hidden_units_last': 249, 'optimizer': 'Yogi', 'loss': 'mae'}. Best is trial 55 with value: 0.4111724328994751.\u001B[0m\n"
     ]
    },
    {
     "name": "stdout",
     "output_type": "stream",
     "text": [
      "21/21 [==============================] - 0s 798us/step\n"
     ]
    },
    {
     "name": "stderr",
     "output_type": "stream",
     "text": [
      "\u001B[32m[I 2022-07-15 19:05:51,222]\u001B[0m Trial 64 finished with value: 0.4546359062194824 and parameters: {'n_layers': 3, 'hidden_units_0': 224, 'use_batch_norm_0': 0, 'hidden_units_1': 175, 'use_batch_norm_1': 0, 'hidden_units_last': 240, 'optimizer': 'Yogi', 'loss': 'mape'}. Best is trial 55 with value: 0.4111724328994751.\u001B[0m\n"
     ]
    },
    {
     "name": "stdout",
     "output_type": "stream",
     "text": [
      "21/21 [==============================] - 0s 848us/step\n"
     ]
    },
    {
     "name": "stderr",
     "output_type": "stream",
     "text": [
      "\u001B[32m[I 2022-07-15 19:06:54,747]\u001B[0m Trial 65 finished with value: 0.46254398492666393 and parameters: {'n_layers': 3, 'hidden_units_0': 245, 'use_batch_norm_0': 0, 'hidden_units_1': 90, 'use_batch_norm_1': 0, 'hidden_units_last': 256, 'optimizer': 'Yogi', 'loss': 'mae'}. Best is trial 55 with value: 0.4111724328994751.\u001B[0m\n"
     ]
    },
    {
     "name": "stdout",
     "output_type": "stream",
     "text": [
      "21/21 [==============================] - 0s 835us/step\n"
     ]
    },
    {
     "name": "stderr",
     "output_type": "stream",
     "text": [
      "\u001B[32m[I 2022-07-15 19:07:59,367]\u001B[0m Trial 66 finished with value: 0.4484183641580435 and parameters: {'n_layers': 3, 'hidden_units_0': 220, 'use_batch_norm_0': 0, 'hidden_units_1': 255, 'use_batch_norm_1': 0, 'hidden_units_last': 216, 'optimizer': 'Yogi', 'loss': 'mae'}. Best is trial 55 with value: 0.4111724328994751.\u001B[0m\n"
     ]
    },
    {
     "name": "stdout",
     "output_type": "stream",
     "text": [
      "21/21 [==============================] - 0s 898us/step\n"
     ]
    },
    {
     "name": "stderr",
     "output_type": "stream",
     "text": [
      "\u001B[32m[I 2022-07-15 19:09:13,340]\u001B[0m Trial 67 finished with value: 0.49014960527420043 and parameters: {'n_layers': 3, 'hidden_units_0': 187, 'use_batch_norm_0': 0, 'hidden_units_1': 212, 'use_batch_norm_1': 1, 'hidden_units_last': 225, 'optimizer': 'Yogi', 'loss': 'mae'}. Best is trial 55 with value: 0.4111724328994751.\u001B[0m\n"
     ]
    },
    {
     "name": "stdout",
     "output_type": "stream",
     "text": [
      "21/21 [==============================] - 0s 847us/step\n"
     ]
    },
    {
     "name": "stderr",
     "output_type": "stream",
     "text": [
      "\u001B[32m[I 2022-07-15 19:10:14,412]\u001B[0m Trial 68 finished with value: 0.4517338576683631 and parameters: {'n_layers': 3, 'hidden_units_0': 236, 'use_batch_norm_0': 0, 'hidden_units_1': 227, 'use_batch_norm_1': 0, 'hidden_units_last': 236, 'optimizer': 'Yogi', 'loss': 'mae'}. Best is trial 55 with value: 0.4111724328994751.\u001B[0m\n"
     ]
    },
    {
     "name": "stdout",
     "output_type": "stream",
     "text": [
      "21/21 [==============================] - 0s 848us/step\n"
     ]
    },
    {
     "name": "stderr",
     "output_type": "stream",
     "text": [
      "\u001B[32m[I 2022-07-15 19:11:15,492]\u001B[0m Trial 69 finished with value: 0.43709468071277324 and parameters: {'n_layers': 3, 'hidden_units_0': 256, 'use_batch_norm_0': 0, 'hidden_units_1': 232, 'use_batch_norm_1': 0, 'hidden_units_last': 196, 'optimizer': 'Yogi', 'loss': 'mae'}. Best is trial 55 with value: 0.4111724328994751.\u001B[0m\n"
     ]
    },
    {
     "name": "stdout",
     "output_type": "stream",
     "text": [
      "21/21 [==============================] - 0s 748us/step\n"
     ]
    },
    {
     "name": "stderr",
     "output_type": "stream",
     "text": [
      "\u001B[32m[I 2022-07-15 19:11:46,398]\u001B[0m Trial 70 finished with value: 0.529197031901433 and parameters: {'n_layers': 2, 'hidden_units_0': 256, 'use_batch_norm_0': 0, 'hidden_units_last': 199, 'optimizer': 'Yogi', 'loss': 'mape'}. Best is trial 55 with value: 0.4111724328994751.\u001B[0m\n"
     ]
    },
    {
     "name": "stdout",
     "output_type": "stream",
     "text": [
      "21/21 [==============================] - 0s 798us/step\n"
     ]
    },
    {
     "name": "stderr",
     "output_type": "stream",
     "text": [
      "\u001B[32m[I 2022-07-15 19:12:29,574]\u001B[0m Trial 71 finished with value: 0.47813629663907564 and parameters: {'n_layers': 3, 'hidden_units_0': 244, 'use_batch_norm_0': 0, 'hidden_units_1': 232, 'use_batch_norm_1': 0, 'hidden_units_last': 250, 'optimizer': 'Yogi', 'loss': 'mae'}. Best is trial 55 with value: 0.4111724328994751.\u001B[0m\n"
     ]
    },
    {
     "name": "stdout",
     "output_type": "stream",
     "text": [
      "21/21 [==============================] - 0s 848us/step\n"
     ]
    },
    {
     "name": "stderr",
     "output_type": "stream",
     "text": [
      "\u001B[32m[I 2022-07-15 19:13:32,841]\u001B[0m Trial 72 finished with value: 0.4648621074969952 and parameters: {'n_layers': 3, 'hidden_units_0': 230, 'use_batch_norm_0': 0, 'hidden_units_1': 57, 'use_batch_norm_1': 0, 'hidden_units_last': 232, 'optimizer': 'Yogi', 'loss': 'mae'}. Best is trial 55 with value: 0.4111724328994751.\u001B[0m\n"
     ]
    },
    {
     "name": "stdout",
     "output_type": "stream",
     "text": [
      "21/21 [==============================] - 0s 782us/step\n"
     ]
    },
    {
     "name": "stderr",
     "output_type": "stream",
     "text": [
      "\u001B[32m[I 2022-07-15 19:14:36,589]\u001B[0m Trial 73 finished with value: 0.4354991054534912 and parameters: {'n_layers': 3, 'hidden_units_0': 248, 'use_batch_norm_0': 0, 'hidden_units_1': 132, 'use_batch_norm_1': 0, 'hidden_units_last': 242, 'optimizer': 'Yogi', 'loss': 'mae'}. Best is trial 55 with value: 0.4111724328994751.\u001B[0m\n"
     ]
    },
    {
     "name": "stdout",
     "output_type": "stream",
     "text": [
      "21/21 [==============================] - 0s 748us/step\n"
     ]
    },
    {
     "name": "stderr",
     "output_type": "stream",
     "text": [
      "\u001B[32m[I 2022-07-15 19:15:42,813]\u001B[0m Trial 74 finished with value: 0.4377467368199275 and parameters: {'n_layers': 3, 'hidden_units_0': 249, 'use_batch_norm_0': 0, 'hidden_units_1': 133, 'use_batch_norm_1': 0, 'hidden_units_last': 242, 'optimizer': 'Yogi', 'loss': 'mae'}. Best is trial 55 with value: 0.4111724328994751.\u001B[0m\n"
     ]
    },
    {
     "name": "stdout",
     "output_type": "stream",
     "text": [
      "21/21 [==============================] - 0s 798us/step\n"
     ]
    },
    {
     "name": "stderr",
     "output_type": "stream",
     "text": [
      "\u001B[32m[I 2022-07-15 19:16:46,759]\u001B[0m Trial 75 finished with value: 0.44834492536691517 and parameters: {'n_layers': 3, 'hidden_units_0': 248, 'use_batch_norm_0': 0, 'hidden_units_1': 130, 'use_batch_norm_1': 0, 'hidden_units_last': 195, 'optimizer': 'Yogi', 'loss': 'mae'}. Best is trial 55 with value: 0.4111724328994751.\u001B[0m\n"
     ]
    },
    {
     "name": "stdout",
     "output_type": "stream",
     "text": [
      "21/21 [==============================] - 0s 806us/step\n"
     ]
    },
    {
     "name": "stderr",
     "output_type": "stream",
     "text": [
      "\u001B[32m[I 2022-07-15 19:17:53,651]\u001B[0m Trial 76 finished with value: 0.4555663585662842 and parameters: {'n_layers': 3, 'hidden_units_0': 255, 'use_batch_norm_0': 0, 'hidden_units_1': 128, 'use_batch_norm_1': 0, 'hidden_units_last': 215, 'optimizer': 'Yogi', 'loss': 'mae'}. Best is trial 55 with value: 0.4111724328994751.\u001B[0m\n"
     ]
    },
    {
     "name": "stdout",
     "output_type": "stream",
     "text": [
      "21/21 [==============================] - 0s 809us/step\n"
     ]
    },
    {
     "name": "stderr",
     "output_type": "stream",
     "text": [
      "\u001B[32m[I 2022-07-15 19:19:01,508]\u001B[0m Trial 77 finished with value: 0.44526439666748047 and parameters: {'n_layers': 3, 'hidden_units_0': 240, 'use_batch_norm_0': 0, 'hidden_units_1': 104, 'use_batch_norm_1': 0, 'hidden_units_last': 223, 'optimizer': 'Yogi', 'loss': 'mae'}. Best is trial 55 with value: 0.4111724328994751.\u001B[0m\n"
     ]
    },
    {
     "name": "stdout",
     "output_type": "stream",
     "text": [
      "21/21 [==============================] - 0s 848us/step\n"
     ]
    },
    {
     "name": "stderr",
     "output_type": "stream",
     "text": [
      "\u001B[32m[I 2022-07-15 19:19:27,551]\u001B[0m Trial 78 finished with value: 0.6773956922384409 and parameters: {'n_layers': 3, 'hidden_units_0': 227, 'use_batch_norm_0': 0, 'hidden_units_1': 155, 'use_batch_norm_1': 0, 'hidden_units_last': 183, 'optimizer': 'AdamW', 'loss': 'mae'}. Best is trial 55 with value: 0.4111724328994751.\u001B[0m\n"
     ]
    },
    {
     "name": "stdout",
     "output_type": "stream",
     "text": [
      "21/21 [==============================] - 0s 947us/step\n"
     ]
    },
    {
     "name": "stderr",
     "output_type": "stream",
     "text": [
      "\u001B[32m[I 2022-07-15 19:20:51,983]\u001B[0m Trial 79 finished with value: 0.509604125389686 and parameters: {'n_layers': 3, 'hidden_units_0': 241, 'use_batch_norm_0': 0, 'hidden_units_1': 141, 'use_batch_norm_1': 1, 'hidden_units_last': 243, 'optimizer': 'Yogi', 'loss': 'mae'}. Best is trial 55 with value: 0.4111724328994751.\u001B[0m\n"
     ]
    },
    {
     "name": "stdout",
     "output_type": "stream",
     "text": [
      "21/21 [==============================] - 0s 911us/step\n"
     ]
    },
    {
     "name": "stderr",
     "output_type": "stream",
     "text": [
      "\u001B[32m[I 2022-07-15 19:22:02,366]\u001B[0m Trial 80 finished with value: 0.4790204701056847 and parameters: {'n_layers': 3, 'hidden_units_0': 248, 'use_batch_norm_0': 0, 'hidden_units_1': 148, 'use_batch_norm_1': 0, 'hidden_units_last': 239, 'optimizer': 'Yogi', 'loss': 'mape'}. Best is trial 55 with value: 0.4111724328994751.\u001B[0m\n"
     ]
    },
    {
     "name": "stdout",
     "output_type": "stream",
     "text": [
      "21/21 [==============================] - 0s 848us/step\n"
     ]
    },
    {
     "name": "stderr",
     "output_type": "stream",
     "text": [
      "\u001B[32m[I 2022-07-15 19:23:11,674]\u001B[0m Trial 81 finished with value: 0.45232235468350923 and parameters: {'n_layers': 3, 'hidden_units_0': 234, 'use_batch_norm_0': 0, 'hidden_units_1': 137, 'use_batch_norm_1': 0, 'hidden_units_last': 228, 'optimizer': 'Yogi', 'loss': 'mae'}. Best is trial 55 with value: 0.4111724328994751.\u001B[0m\n"
     ]
    },
    {
     "name": "stdout",
     "output_type": "stream",
     "text": [
      "21/21 [==============================] - 0s 748us/step\n"
     ]
    },
    {
     "name": "stderr",
     "output_type": "stream",
     "text": [
      "\u001B[32m[I 2022-07-15 19:24:20,662]\u001B[0m Trial 82 finished with value: 0.4817424407372108 and parameters: {'n_layers': 3, 'hidden_units_0': 235, 'use_batch_norm_0': 0, 'hidden_units_1': 238, 'use_batch_norm_1': 0, 'hidden_units_last': 35, 'optimizer': 'Yogi', 'loss': 'mae'}. Best is trial 55 with value: 0.4111724328994751.\u001B[0m\n"
     ]
    },
    {
     "name": "stdout",
     "output_type": "stream",
     "text": [
      "21/21 [==============================] - 0s 768us/step\n"
     ]
    },
    {
     "name": "stderr",
     "output_type": "stream",
     "text": [
      "\u001B[32m[I 2022-07-15 19:25:28,132]\u001B[0m Trial 83 finished with value: 0.42434317148648776 and parameters: {'n_layers': 3, 'hidden_units_0': 214, 'use_batch_norm_0': 0, 'hidden_units_1': 111, 'use_batch_norm_1': 0, 'hidden_units_last': 238, 'optimizer': 'Yogi', 'loss': 'mae'}. Best is trial 55 with value: 0.4111724328994751.\u001B[0m\n"
     ]
    },
    {
     "name": "stdout",
     "output_type": "stream",
     "text": [
      "21/21 [==============================] - 0s 871us/step\n"
     ]
    },
    {
     "name": "stderr",
     "output_type": "stream",
     "text": [
      "\u001B[32m[I 2022-07-15 19:26:32,356]\u001B[0m Trial 84 finished with value: 0.4629363184708815 and parameters: {'n_layers': 3, 'hidden_units_0': 216, 'use_batch_norm_0': 0, 'hidden_units_1': 106, 'use_batch_norm_1': 0, 'hidden_units_last': 212, 'optimizer': 'Yogi', 'loss': 'mae'}. Best is trial 55 with value: 0.4111724328994751.\u001B[0m\n"
     ]
    },
    {
     "name": "stdout",
     "output_type": "stream",
     "text": [
      "21/21 [==============================] - 0s 798us/step\n"
     ]
    },
    {
     "name": "stderr",
     "output_type": "stream",
     "text": [
      "\u001B[32m[I 2022-07-15 19:27:38,508]\u001B[0m Trial 85 finished with value: 0.44831781240609975 and parameters: {'n_layers': 3, 'hidden_units_0': 251, 'use_batch_norm_0': 0, 'hidden_units_1': 117, 'use_batch_norm_1': 0, 'hidden_units_last': 220, 'optimizer': 'Yogi', 'loss': 'mae'}. Best is trial 55 with value: 0.4111724328994751.\u001B[0m\n"
     ]
    },
    {
     "name": "stdout",
     "output_type": "stream",
     "text": [
      "21/21 [==============================] - 0s 797us/step\n"
     ]
    },
    {
     "name": "stderr",
     "output_type": "stream",
     "text": [
      "\u001B[32m[I 2022-07-15 19:28:45,975]\u001B[0m Trial 86 finished with value: 0.4599970127986028 and parameters: {'n_layers': 3, 'hidden_units_0': 224, 'use_batch_norm_0': 0, 'hidden_units_1': 94, 'use_batch_norm_1': 0, 'hidden_units_last': 239, 'optimizer': 'Yogi', 'loss': 'mae'}. Best is trial 55 with value: 0.4111724328994751.\u001B[0m\n"
     ]
    },
    {
     "name": "stdout",
     "output_type": "stream",
     "text": [
      "21/21 [==============================] - 0s 798us/step\n"
     ]
    },
    {
     "name": "stderr",
     "output_type": "stream",
     "text": [
      "\u001B[32m[I 2022-07-15 19:29:53,646]\u001B[0m Trial 87 finished with value: 0.44305618542891284 and parameters: {'n_layers': 3, 'hidden_units_0': 208, 'use_batch_norm_0': 0, 'hidden_units_1': 125, 'use_batch_norm_1': 0, 'hidden_units_last': 235, 'optimizer': 'Yogi', 'loss': 'mae'}. Best is trial 55 with value: 0.4111724328994751.\u001B[0m\n"
     ]
    },
    {
     "name": "stdout",
     "output_type": "stream",
     "text": [
      "21/21 [==============================] - 0s 798us/step\n"
     ]
    },
    {
     "name": "stderr",
     "output_type": "stream",
     "text": [
      "\u001B[32m[I 2022-07-15 19:30:56,137]\u001B[0m Trial 88 finished with value: 0.5107461811945988 and parameters: {'n_layers': 3, 'hidden_units_0': 54, 'use_batch_norm_0': 0, 'hidden_units_1': 112, 'use_batch_norm_1': 0, 'hidden_units_last': 196, 'optimizer': 'Yogi', 'loss': 'mae'}. Best is trial 55 with value: 0.4111724328994751.\u001B[0m\n"
     ]
    },
    {
     "name": "stdout",
     "output_type": "stream",
     "text": [
      "21/21 [==============================] - 0s 840us/step\n"
     ]
    },
    {
     "name": "stderr",
     "output_type": "stream",
     "text": [
      "\u001B[32m[I 2022-07-15 19:31:15,069]\u001B[0m Trial 89 finished with value: 0.6454327084467961 and parameters: {'n_layers': 3, 'hidden_units_0': 194, 'use_batch_norm_0': 0, 'hidden_units_1': 134, 'use_batch_norm_1': 0, 'hidden_units_last': 226, 'optimizer': 'AdamW', 'loss': 'mae'}. Best is trial 55 with value: 0.4111724328994751.\u001B[0m\n"
     ]
    },
    {
     "name": "stdout",
     "output_type": "stream",
     "text": [
      "21/21 [==============================] - 0s 801us/step\n"
     ]
    },
    {
     "name": "stderr",
     "output_type": "stream",
     "text": [
      "\u001B[32m[I 2022-07-15 19:32:23,462]\u001B[0m Trial 90 finished with value: 0.4549373685396635 and parameters: {'n_layers': 3, 'hidden_units_0': 169, 'use_batch_norm_0': 0, 'hidden_units_1': 248, 'use_batch_norm_1': 0, 'hidden_units_last': 73, 'optimizer': 'Yogi', 'loss': 'mae'}. Best is trial 55 with value: 0.4111724328994751.\u001B[0m\n"
     ]
    },
    {
     "name": "stdout",
     "output_type": "stream",
     "text": [
      "21/21 [==============================] - 0s 782us/step\n"
     ]
    },
    {
     "name": "stderr",
     "output_type": "stream",
     "text": [
      "\u001B[32m[I 2022-07-15 19:33:26,263]\u001B[0m Trial 91 finished with value: 0.4532903143075796 and parameters: {'n_layers': 3, 'hidden_units_0': 231, 'use_batch_norm_0': 0, 'hidden_units_1': 207, 'use_batch_norm_1': 0, 'hidden_units_last': 244, 'optimizer': 'Yogi', 'loss': 'mae'}. Best is trial 55 with value: 0.4111724328994751.\u001B[0m\n"
     ]
    },
    {
     "name": "stdout",
     "output_type": "stream",
     "text": [
      "21/21 [==============================] - 0s 798us/step\n"
     ]
    },
    {
     "name": "stderr",
     "output_type": "stream",
     "text": [
      "\u001B[32m[I 2022-07-15 19:34:26,866]\u001B[0m Trial 92 finished with value: 0.44812544969412 and parameters: {'n_layers': 3, 'hidden_units_0': 241, 'use_batch_norm_0': 0, 'hidden_units_1': 154, 'use_batch_norm_1': 0, 'hidden_units_last': 251, 'optimizer': 'Yogi', 'loss': 'mae'}. Best is trial 55 with value: 0.4111724328994751.\u001B[0m\n"
     ]
    },
    {
     "name": "stdout",
     "output_type": "stream",
     "text": [
      "21/21 [==============================] - 0s 798us/step\n"
     ]
    },
    {
     "name": "stderr",
     "output_type": "stream",
     "text": [
      "\u001B[32m[I 2022-07-15 19:35:33,304]\u001B[0m Trial 93 finished with value: 0.44699207379267764 and parameters: {'n_layers': 3, 'hidden_units_0': 256, 'use_batch_norm_0': 0, 'hidden_units_1': 172, 'use_batch_norm_1': 0, 'hidden_units_last': 232, 'optimizer': 'Yogi', 'loss': 'mae'}. Best is trial 55 with value: 0.4111724328994751.\u001B[0m\n"
     ]
    },
    {
     "name": "stdout",
     "output_type": "stream",
     "text": [
      "21/21 [==============================] - 0s 698us/step\n"
     ]
    },
    {
     "name": "stderr",
     "output_type": "stream",
     "text": [
      "\u001B[32m[I 2022-07-15 19:36:39,780]\u001B[0m Trial 94 finished with value: 0.45473603908832255 and parameters: {'n_layers': 3, 'hidden_units_0': 245, 'use_batch_norm_0': 0, 'hidden_units_1': 216, 'use_batch_norm_1': 0, 'hidden_units_last': 243, 'optimizer': 'Yogi', 'loss': 'mae'}. Best is trial 55 with value: 0.4111724328994751.\u001B[0m\n"
     ]
    },
    {
     "name": "stdout",
     "output_type": "stream",
     "text": [
      "21/21 [==============================] - 0s 948us/step\n"
     ]
    },
    {
     "name": "stderr",
     "output_type": "stream",
     "text": [
      "\u001B[32m[I 2022-07-15 19:37:49,279]\u001B[0m Trial 95 finished with value: 0.4764426411115206 and parameters: {'n_layers': 3, 'hidden_units_0': 227, 'use_batch_norm_0': 0, 'hidden_units_1': 228, 'use_batch_norm_1': 0, 'hidden_units_last': 252, 'optimizer': 'Yogi', 'loss': 'mae'}. Best is trial 55 with value: 0.4111724328994751.\u001B[0m\n"
     ]
    },
    {
     "name": "stdout",
     "output_type": "stream",
     "text": [
      "21/21 [==============================] - 0s 698us/step\n"
     ]
    },
    {
     "name": "stderr",
     "output_type": "stream",
     "text": [
      "\u001B[32m[I 2022-07-15 19:38:56,289]\u001B[0m Trial 96 finished with value: 0.45418522908137393 and parameters: {'n_layers': 3, 'hidden_units_0': 219, 'use_batch_norm_0': 0, 'hidden_units_1': 237, 'use_batch_norm_1': 0, 'hidden_units_last': 179, 'optimizer': 'Yogi', 'loss': 'mae'}. Best is trial 55 with value: 0.4111724328994751.\u001B[0m\n"
     ]
    },
    {
     "name": "stdout",
     "output_type": "stream",
     "text": [
      "21/21 [==============================] - 0s 748us/step\n"
     ]
    },
    {
     "name": "stderr",
     "output_type": "stream",
     "text": [
      "\u001B[32m[I 2022-07-15 19:40:03,374]\u001B[0m Trial 97 finished with value: 0.4569108985020564 and parameters: {'n_layers': 3, 'hidden_units_0': 237, 'use_batch_norm_0': 0, 'hidden_units_1': 189, 'use_batch_norm_1': 0, 'hidden_units_last': 218, 'optimizer': 'Yogi', 'loss': 'mae'}. Best is trial 55 with value: 0.4111724328994751.\u001B[0m\n"
     ]
    },
    {
     "name": "stdout",
     "output_type": "stream",
     "text": [
      "21/21 [==============================] - 0s 748us/step\n"
     ]
    },
    {
     "name": "stderr",
     "output_type": "stream",
     "text": [
      "\u001B[32m[I 2022-07-15 19:41:12,424]\u001B[0m Trial 98 finished with value: 0.4849989898388202 and parameters: {'n_layers': 3, 'hidden_units_0': 213, 'use_batch_norm_0': 0, 'hidden_units_1': 225, 'use_batch_norm_1': 0, 'hidden_units_last': 256, 'optimizer': 'Yogi', 'loss': 'mape'}. Best is trial 55 with value: 0.4111724328994751.\u001B[0m\n"
     ]
    },
    {
     "name": "stdout",
     "output_type": "stream",
     "text": [
      "21/21 [==============================] - 0s 731us/step\n"
     ]
    },
    {
     "name": "stderr",
     "output_type": "stream",
     "text": [
      "\u001B[32m[I 2022-07-15 19:41:49,738]\u001B[0m Trial 99 finished with value: 0.5603517620380108 and parameters: {'n_layers': 1, 'hidden_units_last': 234, 'optimizer': 'Yogi', 'loss': 'mae'}. Best is trial 55 with value: 0.4111724328994751.\u001B[0m\n"
     ]
    },
    {
     "data": {
      "text/plain": "    number     value             datetime_start          datetime_complete  \\\n0        0  0.538595 2022-07-15 18:07:44.978654 2022-07-15 18:08:40.118995   \n1        1  5.213333 2022-07-15 18:08:40.118995 2022-07-15 18:09:06.696598   \n2        2  1.860014 2022-07-15 18:09:06.697602 2022-07-15 18:09:19.100776   \n3        3  0.531550 2022-07-15 18:09:19.101778 2022-07-15 18:10:02.722053   \n4        4  0.662501 2022-07-15 18:10:02.723051 2022-07-15 18:10:24.834547   \n..     ...       ...                        ...                        ...   \n95      95  0.476443 2022-07-15 19:36:39.780421 2022-07-15 19:37:49.279034   \n96      96  0.454185 2022-07-15 19:37:49.279034 2022-07-15 19:38:56.288019   \n97      97  0.456911 2022-07-15 19:38:56.289019 2022-07-15 19:40:03.373852   \n98      98  0.484999 2022-07-15 19:40:03.374854 2022-07-15 19:41:12.424663   \n99      99  0.560352 2022-07-15 19:41:12.424663 2022-07-15 19:41:49.737891   \n\n                 duration  params_hidden_units_0  params_hidden_units_1  \\\n0  0 days 00:00:55.140341                  169.0                    NaN   \n1  0 days 00:00:26.577603                    NaN                    NaN   \n2  0 days 00:00:12.403174                  209.0                    NaN   \n3  0 days 00:00:43.620275                    NaN                    NaN   \n4  0 days 00:00:22.111496                   74.0                  145.0   \n..                    ...                    ...                    ...   \n95 0 days 00:01:09.498613                  227.0                  228.0   \n96 0 days 00:01:07.008985                  219.0                  237.0   \n97 0 days 00:01:07.084833                  237.0                  189.0   \n98 0 days 00:01:09.049809                  213.0                  225.0   \n99 0 days 00:00:37.313228                    NaN                    NaN   \n\n    params_hidden_units_last params_loss  params_n_layers params_optimizer  \\\n0                        208         mae                2             Yogi   \n1                         44        mape                1            AdamW   \n2                         51        mape                2            AdamW   \n3                        156         mae                1             Yogi   \n4                        126         mae                3            AdamW   \n..                       ...         ...              ...              ...   \n95                       252         mae                3             Yogi   \n96                       179         mae                3             Yogi   \n97                       218         mae                3             Yogi   \n98                       256        mape                3             Yogi   \n99                       234         mae                1             Yogi   \n\n    params_use_batch_norm_0  params_use_batch_norm_1     state  \n0                       0.0                      NaN  COMPLETE  \n1                       NaN                      NaN  COMPLETE  \n2                       0.0                      NaN  COMPLETE  \n3                       NaN                      NaN  COMPLETE  \n4                       1.0                      0.0  COMPLETE  \n..                      ...                      ...       ...  \n95                      0.0                      0.0  COMPLETE  \n96                      0.0                      0.0  COMPLETE  \n97                      0.0                      0.0  COMPLETE  \n98                      0.0                      0.0  COMPLETE  \n99                      NaN                      NaN  COMPLETE  \n\n[100 rows x 14 columns]",
      "text/html": "<div>\n<style scoped>\n    .dataframe tbody tr th:only-of-type {\n        vertical-align: middle;\n    }\n\n    .dataframe tbody tr th {\n        vertical-align: top;\n    }\n\n    .dataframe thead th {\n        text-align: right;\n    }\n</style>\n<table border=\"1\" class=\"dataframe\">\n  <thead>\n    <tr style=\"text-align: right;\">\n      <th></th>\n      <th>number</th>\n      <th>value</th>\n      <th>datetime_start</th>\n      <th>datetime_complete</th>\n      <th>duration</th>\n      <th>params_hidden_units_0</th>\n      <th>params_hidden_units_1</th>\n      <th>params_hidden_units_last</th>\n      <th>params_loss</th>\n      <th>params_n_layers</th>\n      <th>params_optimizer</th>\n      <th>params_use_batch_norm_0</th>\n      <th>params_use_batch_norm_1</th>\n      <th>state</th>\n    </tr>\n  </thead>\n  <tbody>\n    <tr>\n      <th>0</th>\n      <td>0</td>\n      <td>0.538595</td>\n      <td>2022-07-15 18:07:44.978654</td>\n      <td>2022-07-15 18:08:40.118995</td>\n      <td>0 days 00:00:55.140341</td>\n      <td>169.0</td>\n      <td>NaN</td>\n      <td>208</td>\n      <td>mae</td>\n      <td>2</td>\n      <td>Yogi</td>\n      <td>0.0</td>\n      <td>NaN</td>\n      <td>COMPLETE</td>\n    </tr>\n    <tr>\n      <th>1</th>\n      <td>1</td>\n      <td>5.213333</td>\n      <td>2022-07-15 18:08:40.118995</td>\n      <td>2022-07-15 18:09:06.696598</td>\n      <td>0 days 00:00:26.577603</td>\n      <td>NaN</td>\n      <td>NaN</td>\n      <td>44</td>\n      <td>mape</td>\n      <td>1</td>\n      <td>AdamW</td>\n      <td>NaN</td>\n      <td>NaN</td>\n      <td>COMPLETE</td>\n    </tr>\n    <tr>\n      <th>2</th>\n      <td>2</td>\n      <td>1.860014</td>\n      <td>2022-07-15 18:09:06.697602</td>\n      <td>2022-07-15 18:09:19.100776</td>\n      <td>0 days 00:00:12.403174</td>\n      <td>209.0</td>\n      <td>NaN</td>\n      <td>51</td>\n      <td>mape</td>\n      <td>2</td>\n      <td>AdamW</td>\n      <td>0.0</td>\n      <td>NaN</td>\n      <td>COMPLETE</td>\n    </tr>\n    <tr>\n      <th>3</th>\n      <td>3</td>\n      <td>0.531550</td>\n      <td>2022-07-15 18:09:19.101778</td>\n      <td>2022-07-15 18:10:02.722053</td>\n      <td>0 days 00:00:43.620275</td>\n      <td>NaN</td>\n      <td>NaN</td>\n      <td>156</td>\n      <td>mae</td>\n      <td>1</td>\n      <td>Yogi</td>\n      <td>NaN</td>\n      <td>NaN</td>\n      <td>COMPLETE</td>\n    </tr>\n    <tr>\n      <th>4</th>\n      <td>4</td>\n      <td>0.662501</td>\n      <td>2022-07-15 18:10:02.723051</td>\n      <td>2022-07-15 18:10:24.834547</td>\n      <td>0 days 00:00:22.111496</td>\n      <td>74.0</td>\n      <td>145.0</td>\n      <td>126</td>\n      <td>mae</td>\n      <td>3</td>\n      <td>AdamW</td>\n      <td>1.0</td>\n      <td>0.0</td>\n      <td>COMPLETE</td>\n    </tr>\n    <tr>\n      <th>...</th>\n      <td>...</td>\n      <td>...</td>\n      <td>...</td>\n      <td>...</td>\n      <td>...</td>\n      <td>...</td>\n      <td>...</td>\n      <td>...</td>\n      <td>...</td>\n      <td>...</td>\n      <td>...</td>\n      <td>...</td>\n      <td>...</td>\n      <td>...</td>\n    </tr>\n    <tr>\n      <th>95</th>\n      <td>95</td>\n      <td>0.476443</td>\n      <td>2022-07-15 19:36:39.780421</td>\n      <td>2022-07-15 19:37:49.279034</td>\n      <td>0 days 00:01:09.498613</td>\n      <td>227.0</td>\n      <td>228.0</td>\n      <td>252</td>\n      <td>mae</td>\n      <td>3</td>\n      <td>Yogi</td>\n      <td>0.0</td>\n      <td>0.0</td>\n      <td>COMPLETE</td>\n    </tr>\n    <tr>\n      <th>96</th>\n      <td>96</td>\n      <td>0.454185</td>\n      <td>2022-07-15 19:37:49.279034</td>\n      <td>2022-07-15 19:38:56.288019</td>\n      <td>0 days 00:01:07.008985</td>\n      <td>219.0</td>\n      <td>237.0</td>\n      <td>179</td>\n      <td>mae</td>\n      <td>3</td>\n      <td>Yogi</td>\n      <td>0.0</td>\n      <td>0.0</td>\n      <td>COMPLETE</td>\n    </tr>\n    <tr>\n      <th>97</th>\n      <td>97</td>\n      <td>0.456911</td>\n      <td>2022-07-15 19:38:56.289019</td>\n      <td>2022-07-15 19:40:03.373852</td>\n      <td>0 days 00:01:07.084833</td>\n      <td>237.0</td>\n      <td>189.0</td>\n      <td>218</td>\n      <td>mae</td>\n      <td>3</td>\n      <td>Yogi</td>\n      <td>0.0</td>\n      <td>0.0</td>\n      <td>COMPLETE</td>\n    </tr>\n    <tr>\n      <th>98</th>\n      <td>98</td>\n      <td>0.484999</td>\n      <td>2022-07-15 19:40:03.374854</td>\n      <td>2022-07-15 19:41:12.424663</td>\n      <td>0 days 00:01:09.049809</td>\n      <td>213.0</td>\n      <td>225.0</td>\n      <td>256</td>\n      <td>mape</td>\n      <td>3</td>\n      <td>Yogi</td>\n      <td>0.0</td>\n      <td>0.0</td>\n      <td>COMPLETE</td>\n    </tr>\n    <tr>\n      <th>99</th>\n      <td>99</td>\n      <td>0.560352</td>\n      <td>2022-07-15 19:41:12.424663</td>\n      <td>2022-07-15 19:41:49.737891</td>\n      <td>0 days 00:00:37.313228</td>\n      <td>NaN</td>\n      <td>NaN</td>\n      <td>234</td>\n      <td>mae</td>\n      <td>1</td>\n      <td>Yogi</td>\n      <td>NaN</td>\n      <td>NaN</td>\n      <td>COMPLETE</td>\n    </tr>\n  </tbody>\n</table>\n<p>100 rows × 14 columns</p>\n</div>"
     },
     "execution_count": 8,
     "metadata": {},
     "output_type": "execute_result"
    }
   ],
   "source": [
    "def create_model(trial):\n",
    "    model = tf.keras.Sequential()\n",
    "    model.add(tf.keras.layers.Input(x_train.shape[1:]))\n",
    "\n",
    "    n_layers = trial.suggest_int('n_layers', 1, 3)\n",
    "    for i in range(n_layers - 1):\n",
    "        hidden_units = trial.suggest_int(f'hidden_units_{i}', 32, 256)\n",
    "        use_batch_norm = bool(trial.suggest_int(f'use_batch_norm_{i}', 0, 1))\n",
    "        use_bias = False if use_batch_norm else True\n",
    "\n",
    "        model.add(tf.keras.layers.Dense(units=hidden_units, activation='gelu', use_bias=use_bias))\n",
    "        if use_batch_norm:\n",
    "            model.add(tf.keras.layers.BatchNormalization())\n",
    "\n",
    "    hidden_units = trial.suggest_int('hidden_units_last', 32, 256)\n",
    "    model.add(tf.keras.layers.Dense(units=hidden_units, activation='gelu'))\n",
    "    model.add(tf.keras.layers.Dense(units=1))\n",
    "\n",
    "    optimizer = trial.suggest_categorical('optimizer', ['Yogi', 'AdamW'])\n",
    "    loss = trial.suggest_categorical('loss', ['mse', 'mae', 'mape'])\n",
    "\n",
    "    if optimizer == 'Adam':\n",
    "        optim = tf.keras.optimizers.Adam()\n",
    "    elif optimizer == 'Yogi':\n",
    "        optim = tfa.optimizers.Yogi()\n",
    "    else:\n",
    "        optim = tfa.optimizers.AdamW(weight_decay=0.01)\n",
    "\n",
    "    model.compile(optimizer=optim, loss=loss, metrics=[loss])\n",
    "\n",
    "    return model\n",
    "\n",
    "\n",
    "def objective(trial):\n",
    "    model = create_model(trial)\n",
    "\n",
    "    if trial.should_prune():\n",
    "        raise optuna.TrialPruned()\n",
    "\n",
    "    model.fit(\n",
    "        x_train,\n",
    "        y_train,\n",
    "        batch_size=32,\n",
    "        epochs=100,\n",
    "        callbacks=[early_stopping],\n",
    "        validation_data=(x_test, y_test),\n",
    "        verbose=0\n",
    "    )\n",
    "\n",
    "    y_pred = model.predict(x_test)\n",
    "    return mean_absolute_error(y_test, y_pred)\n",
    "\n",
    "\n",
    "n_trials = 100\n",
    "study = optuna.create_study(direction='minimize')\n",
    "study.optimize(objective, n_trials=n_trials)\n",
    "study.trials_dataframe()"
   ],
   "metadata": {
    "collapsed": false,
    "pycharm": {
     "name": "#%%\n"
    }
   }
  },
  {
   "cell_type": "markdown",
   "source": [
    "# Construct Best Model"
   ],
   "metadata": {
    "collapsed": false
   }
  },
  {
   "cell_type": "code",
   "execution_count": 9,
   "outputs": [
    {
     "name": "stdout",
     "output_type": "stream",
     "text": [
      "Model: \"sequential_110\"\n",
      "_________________________________________________________________\n",
      " Layer (type)                Output Shape              Param #   \n",
      "=================================================================\n",
      " dense_404 (Dense)           (None, 240)               3120      \n",
      "                                                                 \n",
      " dense_405 (Dense)           (None, 219)               52779     \n",
      "                                                                 \n",
      " dense_406 (Dense)           (None, 251)               55220     \n",
      "                                                                 \n",
      " dense_407 (Dense)           (None, 1)                 252       \n",
      "                                                                 \n",
      "=================================================================\n",
      "Total params: 111,371\n",
      "Trainable params: 111,371\n",
      "Non-trainable params: 0\n",
      "_________________________________________________________________\n",
      "Epoch 1/100\n",
      "183/183 [==============================] - 2s 5ms/step - loss: 0.9413 - mae: 0.9413 - val_loss: 0.6409 - val_mae: 0.6409\n",
      "Epoch 2/100\n",
      "183/183 [==============================] - 1s 4ms/step - loss: 0.5866 - mae: 0.5866 - val_loss: 0.5577 - val_mae: 0.5577\n",
      "Epoch 3/100\n",
      "183/183 [==============================] - 1s 4ms/step - loss: 0.5676 - mae: 0.5676 - val_loss: 0.5687 - val_mae: 0.5687\n",
      "Epoch 4/100\n",
      "183/183 [==============================] - 1s 4ms/step - loss: 0.5560 - mae: 0.5560 - val_loss: 0.5515 - val_mae: 0.5515\n",
      "Epoch 5/100\n",
      "183/183 [==============================] - 1s 4ms/step - loss: 0.5347 - mae: 0.5347 - val_loss: 0.5883 - val_mae: 0.5883\n",
      "Epoch 6/100\n",
      "183/183 [==============================] - 1s 4ms/step - loss: 0.5376 - mae: 0.5376 - val_loss: 0.5490 - val_mae: 0.5490\n",
      "Epoch 7/100\n",
      "183/183 [==============================] - 1s 4ms/step - loss: 0.5278 - mae: 0.5278 - val_loss: 0.5424 - val_mae: 0.5424\n",
      "Epoch 8/100\n",
      "183/183 [==============================] - 1s 4ms/step - loss: 0.5202 - mae: 0.5202 - val_loss: 0.5466 - val_mae: 0.5466\n",
      "Epoch 9/100\n",
      "183/183 [==============================] - 1s 4ms/step - loss: 0.5168 - mae: 0.5168 - val_loss: 0.5265 - val_mae: 0.5265\n",
      "Epoch 10/100\n",
      "183/183 [==============================] - 1s 4ms/step - loss: 0.5129 - mae: 0.5129 - val_loss: 0.5389 - val_mae: 0.5389\n",
      "Epoch 11/100\n",
      "183/183 [==============================] - 1s 4ms/step - loss: 0.5133 - mae: 0.5133 - val_loss: 0.5347 - val_mae: 0.5347\n",
      "Epoch 12/100\n",
      "183/183 [==============================] - 1s 4ms/step - loss: 0.5129 - mae: 0.5129 - val_loss: 0.5359 - val_mae: 0.5359\n",
      "Epoch 13/100\n",
      "183/183 [==============================] - 1s 4ms/step - loss: 0.5172 - mae: 0.5172 - val_loss: 0.5644 - val_mae: 0.5644\n",
      "Epoch 14/100\n",
      "183/183 [==============================] - 1s 4ms/step - loss: 0.5142 - mae: 0.5142 - val_loss: 0.5430 - val_mae: 0.5430\n",
      "Epoch 15/100\n",
      "183/183 [==============================] - 1s 4ms/step - loss: 0.5024 - mae: 0.5024 - val_loss: 0.5397 - val_mae: 0.5397\n",
      "Epoch 16/100\n",
      "183/183 [==============================] - 1s 4ms/step - loss: 0.5098 - mae: 0.5098 - val_loss: 0.5610 - val_mae: 0.5610\n",
      "Epoch 17/100\n",
      "183/183 [==============================] - 1s 4ms/step - loss: 0.4995 - mae: 0.4995 - val_loss: 0.5152 - val_mae: 0.5152\n",
      "Epoch 18/100\n",
      "183/183 [==============================] - 1s 5ms/step - loss: 0.4894 - mae: 0.4894 - val_loss: 0.5666 - val_mae: 0.5666\n",
      "Epoch 19/100\n",
      "183/183 [==============================] - 1s 4ms/step - loss: 0.4894 - mae: 0.4894 - val_loss: 0.5199 - val_mae: 0.5199\n",
      "Epoch 20/100\n",
      "183/183 [==============================] - 1s 4ms/step - loss: 0.4817 - mae: 0.4817 - val_loss: 0.5296 - val_mae: 0.5296\n",
      "Epoch 21/100\n",
      "183/183 [==============================] - 1s 4ms/step - loss: 0.4783 - mae: 0.4783 - val_loss: 0.5615 - val_mae: 0.5615\n",
      "Epoch 22/100\n",
      "183/183 [==============================] - 1s 4ms/step - loss: 0.4790 - mae: 0.4790 - val_loss: 0.5160 - val_mae: 0.5160\n",
      "Epoch 23/100\n",
      "183/183 [==============================] - 1s 4ms/step - loss: 0.4692 - mae: 0.4692 - val_loss: 0.5196 - val_mae: 0.5196\n",
      "Epoch 24/100\n",
      "183/183 [==============================] - 1s 4ms/step - loss: 0.4659 - mae: 0.4659 - val_loss: 0.5159 - val_mae: 0.5159\n",
      "Epoch 25/100\n",
      "183/183 [==============================] - 1s 4ms/step - loss: 0.4633 - mae: 0.4633 - val_loss: 0.5160 - val_mae: 0.5160\n",
      "Epoch 26/100\n",
      "183/183 [==============================] - 1s 4ms/step - loss: 0.4560 - mae: 0.4560 - val_loss: 0.5226 - val_mae: 0.5226\n",
      "Epoch 27/100\n",
      "183/183 [==============================] - 1s 4ms/step - loss: 0.4538 - mae: 0.4538 - val_loss: 0.5244 - val_mae: 0.5244\n",
      "Epoch 28/100\n",
      "183/183 [==============================] - 1s 4ms/step - loss: 0.4493 - mae: 0.4493 - val_loss: 0.4958 - val_mae: 0.4958\n",
      "Epoch 29/100\n",
      "183/183 [==============================] - 1s 4ms/step - loss: 0.4455 - mae: 0.4455 - val_loss: 0.4954 - val_mae: 0.4954\n",
      "Epoch 30/100\n",
      "183/183 [==============================] - 1s 4ms/step - loss: 0.4471 - mae: 0.4471 - val_loss: 0.5036 - val_mae: 0.5036\n",
      "Epoch 31/100\n",
      "183/183 [==============================] - 1s 4ms/step - loss: 0.4420 - mae: 0.4420 - val_loss: 0.4909 - val_mae: 0.4909\n",
      "Epoch 32/100\n",
      "183/183 [==============================] - 1s 4ms/step - loss: 0.4393 - mae: 0.4393 - val_loss: 0.5128 - val_mae: 0.5128\n",
      "Epoch 33/100\n",
      "183/183 [==============================] - 1s 4ms/step - loss: 0.4334 - mae: 0.4334 - val_loss: 0.5029 - val_mae: 0.5029\n",
      "Epoch 34/100\n",
      "183/183 [==============================] - 1s 4ms/step - loss: 0.4320 - mae: 0.4320 - val_loss: 0.4990 - val_mae: 0.4990\n",
      "Epoch 35/100\n",
      "183/183 [==============================] - 1s 4ms/step - loss: 0.4251 - mae: 0.4251 - val_loss: 0.5131 - val_mae: 0.5131\n",
      "Epoch 36/100\n",
      "183/183 [==============================] - 1s 4ms/step - loss: 0.4265 - mae: 0.4265 - val_loss: 0.5007 - val_mae: 0.5007\n",
      "Epoch 37/100\n",
      "183/183 [==============================] - 1s 4ms/step - loss: 0.4178 - mae: 0.4178 - val_loss: 0.4838 - val_mae: 0.4838\n",
      "Epoch 38/100\n",
      "183/183 [==============================] - 1s 4ms/step - loss: 0.4100 - mae: 0.4100 - val_loss: 0.4950 - val_mae: 0.4950\n",
      "Epoch 39/100\n",
      "183/183 [==============================] - 1s 4ms/step - loss: 0.4163 - mae: 0.4163 - val_loss: 0.4791 - val_mae: 0.4791\n",
      "Epoch 40/100\n",
      "183/183 [==============================] - 1s 4ms/step - loss: 0.4095 - mae: 0.4095 - val_loss: 0.5035 - val_mae: 0.5035\n",
      "Epoch 41/100\n",
      "183/183 [==============================] - 1s 4ms/step - loss: 0.4078 - mae: 0.4078 - val_loss: 0.4974 - val_mae: 0.4974\n",
      "Epoch 42/100\n",
      "183/183 [==============================] - 1s 4ms/step - loss: 0.4083 - mae: 0.4083 - val_loss: 0.5013 - val_mae: 0.5013\n",
      "Epoch 43/100\n",
      "183/183 [==============================] - 1s 4ms/step - loss: 0.4061 - mae: 0.4061 - val_loss: 0.5288 - val_mae: 0.5288\n",
      "Epoch 44/100\n",
      "183/183 [==============================] - 1s 4ms/step - loss: 0.4045 - mae: 0.4045 - val_loss: 0.4926 - val_mae: 0.4926\n",
      "Epoch 45/100\n",
      "183/183 [==============================] - 1s 4ms/step - loss: 0.4002 - mae: 0.4002 - val_loss: 0.4863 - val_mae: 0.4863\n",
      "Epoch 46/100\n",
      "183/183 [==============================] - 1s 4ms/step - loss: 0.3943 - mae: 0.3943 - val_loss: 0.4968 - val_mae: 0.4968\n",
      "Epoch 47/100\n",
      "183/183 [==============================] - 1s 4ms/step - loss: 0.3845 - mae: 0.3845 - val_loss: 0.4841 - val_mae: 0.4841\n",
      "Epoch 48/100\n",
      "183/183 [==============================] - 1s 4ms/step - loss: 0.3809 - mae: 0.3809 - val_loss: 0.4774 - val_mae: 0.4774\n",
      "Epoch 49/100\n",
      "183/183 [==============================] - 1s 4ms/step - loss: 0.3812 - mae: 0.3812 - val_loss: 0.4921 - val_mae: 0.4921\n",
      "Epoch 50/100\n",
      "183/183 [==============================] - 1s 4ms/step - loss: 0.3774 - mae: 0.3774 - val_loss: 0.5030 - val_mae: 0.5030\n",
      "Epoch 51/100\n",
      "183/183 [==============================] - 1s 4ms/step - loss: 0.3730 - mae: 0.3730 - val_loss: 0.4879 - val_mae: 0.4879\n",
      "Epoch 52/100\n",
      "183/183 [==============================] - 1s 4ms/step - loss: 0.3688 - mae: 0.3688 - val_loss: 0.4947 - val_mae: 0.4947\n",
      "Epoch 53/100\n",
      "183/183 [==============================] - 1s 4ms/step - loss: 0.3720 - mae: 0.3720 - val_loss: 0.4864 - val_mae: 0.4864\n",
      "Epoch 54/100\n",
      "183/183 [==============================] - 1s 4ms/step - loss: 0.3618 - mae: 0.3618 - val_loss: 0.4862 - val_mae: 0.4862\n",
      "Epoch 55/100\n",
      "183/183 [==============================] - 1s 4ms/step - loss: 0.3548 - mae: 0.3548 - val_loss: 0.4938 - val_mae: 0.4938\n",
      "Epoch 56/100\n",
      "183/183 [==============================] - 1s 4ms/step - loss: 0.3630 - mae: 0.3630 - val_loss: 0.4766 - val_mae: 0.4766\n",
      "Epoch 57/100\n",
      "183/183 [==============================] - 1s 4ms/step - loss: 0.3524 - mae: 0.3524 - val_loss: 0.4791 - val_mae: 0.4791\n",
      "Epoch 58/100\n",
      "183/183 [==============================] - 1s 4ms/step - loss: 0.3529 - mae: 0.3529 - val_loss: 0.4907 - val_mae: 0.4907\n",
      "Epoch 59/100\n",
      "183/183 [==============================] - 1s 4ms/step - loss: 0.3457 - mae: 0.3457 - val_loss: 0.4836 - val_mae: 0.4836\n",
      "Epoch 60/100\n",
      "183/183 [==============================] - 1s 4ms/step - loss: 0.3523 - mae: 0.3523 - val_loss: 0.5056 - val_mae: 0.5056\n",
      "Epoch 61/100\n",
      "183/183 [==============================] - 1s 4ms/step - loss: 0.3457 - mae: 0.3457 - val_loss: 0.4855 - val_mae: 0.4855\n",
      "Epoch 62/100\n",
      "183/183 [==============================] - 1s 4ms/step - loss: 0.3411 - mae: 0.3411 - val_loss: 0.4968 - val_mae: 0.4968\n",
      "Epoch 63/100\n",
      "183/183 [==============================] - 1s 4ms/step - loss: 0.3336 - mae: 0.3336 - val_loss: 0.4804 - val_mae: 0.4804\n",
      "Epoch 64/100\n",
      "183/183 [==============================] - 1s 4ms/step - loss: 0.3295 - mae: 0.3295 - val_loss: 0.4765 - val_mae: 0.4765\n",
      "Epoch 65/100\n",
      "183/183 [==============================] - 1s 4ms/step - loss: 0.3276 - mae: 0.3276 - val_loss: 0.4719 - val_mae: 0.4719\n",
      "Epoch 66/100\n",
      "183/183 [==============================] - 1s 4ms/step - loss: 0.3280 - mae: 0.3280 - val_loss: 0.4849 - val_mae: 0.4849\n",
      "Epoch 67/100\n",
      "183/183 [==============================] - 1s 4ms/step - loss: 0.3232 - mae: 0.3232 - val_loss: 0.4815 - val_mae: 0.4815\n",
      "Epoch 68/100\n",
      "183/183 [==============================] - 1s 4ms/step - loss: 0.3211 - mae: 0.3211 - val_loss: 0.4827 - val_mae: 0.4827\n",
      "Epoch 69/100\n",
      "183/183 [==============================] - 1s 4ms/step - loss: 0.3268 - mae: 0.3268 - val_loss: 0.4856 - val_mae: 0.4856\n",
      "Epoch 70/100\n",
      "183/183 [==============================] - 1s 4ms/step - loss: 0.3155 - mae: 0.3155 - val_loss: 0.4813 - val_mae: 0.4813\n",
      "Epoch 71/100\n",
      "183/183 [==============================] - 1s 4ms/step - loss: 0.3131 - mae: 0.3131 - val_loss: 0.4603 - val_mae: 0.4603\n",
      "Epoch 72/100\n",
      "183/183 [==============================] - 1s 4ms/step - loss: 0.3063 - mae: 0.3063 - val_loss: 0.4659 - val_mae: 0.4659\n",
      "Epoch 73/100\n",
      "183/183 [==============================] - 1s 4ms/step - loss: 0.3064 - mae: 0.3064 - val_loss: 0.4767 - val_mae: 0.4767\n",
      "Epoch 74/100\n",
      "183/183 [==============================] - 1s 4ms/step - loss: 0.3028 - mae: 0.3028 - val_loss: 0.4735 - val_mae: 0.4735\n",
      "Epoch 75/100\n",
      "183/183 [==============================] - 1s 4ms/step - loss: 0.3025 - mae: 0.3025 - val_loss: 0.4916 - val_mae: 0.4916\n",
      "Epoch 76/100\n",
      "183/183 [==============================] - 1s 4ms/step - loss: 0.3003 - mae: 0.3003 - val_loss: 0.4817 - val_mae: 0.4817\n",
      "Epoch 77/100\n",
      "183/183 [==============================] - 1s 4ms/step - loss: 0.3052 - mae: 0.3052 - val_loss: 0.4811 - val_mae: 0.4811\n",
      "Epoch 78/100\n",
      "183/183 [==============================] - 1s 4ms/step - loss: 0.2952 - mae: 0.2952 - val_loss: 0.4808 - val_mae: 0.4808\n",
      "Epoch 79/100\n",
      "183/183 [==============================] - 1s 4ms/step - loss: 0.2908 - mae: 0.2908 - val_loss: 0.4637 - val_mae: 0.4637\n",
      "Epoch 80/100\n",
      "183/183 [==============================] - 1s 4ms/step - loss: 0.2849 - mae: 0.2849 - val_loss: 0.4712 - val_mae: 0.4712\n",
      "Epoch 81/100\n",
      "183/183 [==============================] - 1s 4ms/step - loss: 0.2833 - mae: 0.2833 - val_loss: 0.4719 - val_mae: 0.4719\n",
      "Epoch 82/100\n",
      "183/183 [==============================] - 1s 4ms/step - loss: 0.2808 - mae: 0.2808 - val_loss: 0.4754 - val_mae: 0.4754\n",
      "Epoch 83/100\n",
      "183/183 [==============================] - 1s 4ms/step - loss: 0.2801 - mae: 0.2801 - val_loss: 0.4606 - val_mae: 0.4606\n",
      "Epoch 84/100\n",
      "183/183 [==============================] - 1s 4ms/step - loss: 0.2781 - mae: 0.2781 - val_loss: 0.4586 - val_mae: 0.4586\n",
      "Epoch 85/100\n",
      "183/183 [==============================] - 1s 4ms/step - loss: 0.2714 - mae: 0.2714 - val_loss: 0.4814 - val_mae: 0.4814\n",
      "Epoch 86/100\n",
      "183/183 [==============================] - 1s 4ms/step - loss: 0.2735 - mae: 0.2735 - val_loss: 0.4758 - val_mae: 0.4758\n",
      "Epoch 87/100\n",
      "183/183 [==============================] - 1s 4ms/step - loss: 0.2680 - mae: 0.2680 - val_loss: 0.4629 - val_mae: 0.4629\n",
      "Epoch 88/100\n",
      "183/183 [==============================] - 1s 4ms/step - loss: 0.2687 - mae: 0.2687 - val_loss: 0.4621 - val_mae: 0.4621\n",
      "Epoch 89/100\n",
      "183/183 [==============================] - 1s 4ms/step - loss: 0.2663 - mae: 0.2663 - val_loss: 0.4803 - val_mae: 0.4803\n",
      "Epoch 90/100\n",
      "183/183 [==============================] - 1s 4ms/step - loss: 0.2712 - mae: 0.2712 - val_loss: 0.4713 - val_mae: 0.4713\n",
      "Epoch 91/100\n",
      "183/183 [==============================] - 1s 4ms/step - loss: 0.2671 - mae: 0.2671 - val_loss: 0.4698 - val_mae: 0.4698\n",
      "Epoch 92/100\n",
      "183/183 [==============================] - 1s 4ms/step - loss: 0.2616 - mae: 0.2616 - val_loss: 0.4660 - val_mae: 0.4660\n",
      "Epoch 93/100\n",
      "183/183 [==============================] - 1s 4ms/step - loss: 0.2545 - mae: 0.2545 - val_loss: 0.4684 - val_mae: 0.4684\n",
      "Epoch 94/100\n",
      "183/183 [==============================] - 1s 4ms/step - loss: 0.2607 - mae: 0.2607 - val_loss: 0.4632 - val_mae: 0.4632\n",
      "Epoch 95/100\n",
      "183/183 [==============================] - 1s 4ms/step - loss: 0.2535 - mae: 0.2535 - val_loss: 0.4684 - val_mae: 0.4684\n",
      "Epoch 96/100\n",
      "183/183 [==============================] - 1s 4ms/step - loss: 0.2492 - mae: 0.2492 - val_loss: 0.4745 - val_mae: 0.4745\n",
      "Epoch 97/100\n",
      "183/183 [==============================] - 1s 4ms/step - loss: 0.2525 - mae: 0.2525 - val_loss: 0.4557 - val_mae: 0.4557\n",
      "Epoch 98/100\n",
      "183/183 [==============================] - 1s 4ms/step - loss: 0.2475 - mae: 0.2475 - val_loss: 0.4462 - val_mae: 0.4462\n",
      "Epoch 99/100\n",
      "183/183 [==============================] - 1s 4ms/step - loss: 0.2477 - mae: 0.2477 - val_loss: 0.4547 - val_mae: 0.4547\n",
      "Epoch 100/100\n",
      "183/183 [==============================] - 1s 4ms/step - loss: 0.2425 - mae: 0.2425 - val_loss: 0.4630 - val_mae: 0.4630\n"
     ]
    },
    {
     "data": {
      "text/plain": "<keras.callbacks.History at 0x180b5b54100>"
     },
     "execution_count": 9,
     "metadata": {},
     "output_type": "execute_result"
    }
   ],
   "source": [
    "model = create_model(study.best_trial)\n",
    "model.summary()\n",
    "\n",
    "model.fit(\n",
    "    x_train,\n",
    "    y_train,\n",
    "    batch_size=32,\n",
    "    epochs=100,\n",
    "    callbacks=[early_stopping],\n",
    "    validation_data=(x_test, y_test),\n",
    "    verbose=1\n",
    ")"
   ],
   "metadata": {
    "collapsed": false,
    "pycharm": {
     "name": "#%%\n"
    }
   }
  },
  {
   "cell_type": "markdown",
   "source": [
    "# Generate Predictions"
   ],
   "metadata": {
    "collapsed": false,
    "pycharm": {
     "name": "#%% md\n"
    }
   }
  },
  {
   "cell_type": "code",
   "execution_count": 27,
   "outputs": [
    {
     "name": "stdout",
     "output_type": "stream",
     "text": [
      "21/21 [==============================] - 0s 2ms/step\n"
     ]
    },
    {
     "data": {
      "text/plain": "      Ground Truth  Predictions\n5316           6.0            6\n5210           6.0            6\n3518           5.0            4\n1622           6.0            5\n2443           5.0            5\n...            ...          ...\n6486           6.0            6\n2805           6.0            7\n5681           5.0            5\n5771           7.0            7\n5545           4.0            5\n\n[650 rows x 2 columns]",
      "text/html": "<div>\n<style scoped>\n    .dataframe tbody tr th:only-of-type {\n        vertical-align: middle;\n    }\n\n    .dataframe tbody tr th {\n        vertical-align: top;\n    }\n\n    .dataframe thead th {\n        text-align: right;\n    }\n</style>\n<table border=\"1\" class=\"dataframe\">\n  <thead>\n    <tr style=\"text-align: right;\">\n      <th></th>\n      <th>Ground Truth</th>\n      <th>Predictions</th>\n    </tr>\n  </thead>\n  <tbody>\n    <tr>\n      <th>5316</th>\n      <td>6.0</td>\n      <td>6</td>\n    </tr>\n    <tr>\n      <th>5210</th>\n      <td>6.0</td>\n      <td>6</td>\n    </tr>\n    <tr>\n      <th>3518</th>\n      <td>5.0</td>\n      <td>4</td>\n    </tr>\n    <tr>\n      <th>1622</th>\n      <td>6.0</td>\n      <td>5</td>\n    </tr>\n    <tr>\n      <th>2443</th>\n      <td>5.0</td>\n      <td>5</td>\n    </tr>\n    <tr>\n      <th>...</th>\n      <td>...</td>\n      <td>...</td>\n    </tr>\n    <tr>\n      <th>6486</th>\n      <td>6.0</td>\n      <td>6</td>\n    </tr>\n    <tr>\n      <th>2805</th>\n      <td>6.0</td>\n      <td>7</td>\n    </tr>\n    <tr>\n      <th>5681</th>\n      <td>5.0</td>\n      <td>5</td>\n    </tr>\n    <tr>\n      <th>5771</th>\n      <td>7.0</td>\n      <td>7</td>\n    </tr>\n    <tr>\n      <th>5545</th>\n      <td>4.0</td>\n      <td>5</td>\n    </tr>\n  </tbody>\n</table>\n<p>650 rows × 2 columns</p>\n</div>"
     },
     "execution_count": 27,
     "metadata": {},
     "output_type": "execute_result"
    }
   ],
   "source": [
    "y_pred = model.predict(x_test)\n",
    "predictions_df = pd.DataFrame({'Ground Truth': y_test, 'Predictions': y_pred.squeeze()})\n",
    "predictions_df['Predictions'] = predictions_df['Predictions'].apply(lambda pred: round(pred))\n",
    "predictions_df.to_csv('predictions.csv', index=False, sep=',')\n",
    "predictions_df"
   ],
   "metadata": {
    "collapsed": false,
    "pycharm": {
     "name": "#%%\n"
    }
   }
  }
 ],
 "metadata": {
  "kernelspec": {
   "display_name": "Python 3",
   "language": "python",
   "name": "python3"
  },
  "language_info": {
   "codemirror_mode": {
    "name": "ipython",
    "version": 2
   },
   "file_extension": ".py",
   "mimetype": "text/x-python",
   "name": "python",
   "nbconvert_exporter": "python",
   "pygments_lexer": "ipython2",
   "version": "2.7.6"
  }
 },
 "nbformat": 4,
 "nbformat_minor": 0
}